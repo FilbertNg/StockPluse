{
 "cells": [
  {
   "cell_type": "markdown",
   "metadata": {},
   "source": [
    "##### Importing"
   ]
  },
  {
   "cell_type": "code",
   "execution_count": 1,
   "metadata": {},
   "outputs": [],
   "source": [
    "import json\n",
    "import pandas as pd\n",
    "import matplotlib.pyplot as plt\n",
    "from collections import Counter\n",
    "from datetime import datetime\n",
    "import ast"
   ]
  },
  {
   "cell_type": "code",
   "execution_count": 2,
   "metadata": {},
   "outputs": [
    {
     "name": "stderr",
     "output_type": "stream",
     "text": [
      "[nltk_data] Downloading package stopwords to\n",
      "[nltk_data]     C:\\Users\\diana\\AppData\\Roaming\\nltk_data...\n",
      "[nltk_data]   Package stopwords is already up-to-date!\n",
      "[nltk_data] Downloading package punkt to\n",
      "[nltk_data]     C:\\Users\\diana\\AppData\\Roaming\\nltk_data...\n",
      "[nltk_data]   Package punkt is already up-to-date!\n",
      "[nltk_data] Downloading package punkt_tab to\n",
      "[nltk_data]     C:\\Users\\diana\\AppData\\Roaming\\nltk_data...\n",
      "[nltk_data]   Package punkt_tab is already up-to-date!\n",
      "[nltk_data] Downloading package wordnet to\n",
      "[nltk_data]     C:\\Users\\diana\\AppData\\Roaming\\nltk_data...\n",
      "[nltk_data]   Package wordnet is already up-to-date!\n"
     ]
    },
    {
     "data": {
      "text/plain": [
       "True"
      ]
     },
     "execution_count": 2,
     "metadata": {},
     "output_type": "execute_result"
    }
   ],
   "source": [
    "import time\n",
    "import random\n",
    "from newspaper import Article\n",
    "\n",
    "import re\n",
    "import string\n",
    "from nltk.corpus import stopwords\n",
    "from nltk.tokenize import sent_tokenize\n",
    "from nltk.tokenize import word_tokenize\n",
    "from nltk.stem import WordNetLemmatizer\n",
    "import nltk\n",
    "nltk.download('stopwords')\n",
    "nltk.download('punkt')\n",
    "nltk.download('punkt_tab')\n",
    "nltk.download('wordnet')\n"
   ]
  },
  {
   "cell_type": "code",
   "execution_count": null,
   "metadata": {},
   "outputs": [],
   "source": [
    "from transformers import AutoTokenizer, AutoModelForSequenceClassification\n",
    "import torch\n",
    "from sklearn.model_selection import train_test_split\n",
    "from transformers import BertTokenizer, BertForSequenceClassification, Trainer, TrainingArguments\n",
    "from torch.utils.data import Dataset\n",
    "from sklearn.metrics import classification_report, accuracy_score, confusion_matrix\n",
    "import numpy as np"
   ]
  },
  {
   "cell_type": "markdown",
   "metadata": {},
   "source": [
    "##### Removing Unscrapable URLs (Unusable data)"
   ]
  },
  {
   "cell_type": "code",
   "execution_count": null,
   "metadata": {},
   "outputs": [],
   "source": [
    "# Load the JSON data\n",
    "with open('polygon_news_sample.json', 'r') as f:\n",
    "    data = json.load(f)\n",
    "\n",
    "# Convert to DataFrame\n",
    "df = pd.DataFrame(data)"
   ]
  },
  {
   "cell_type": "code",
   "execution_count": 54,
   "metadata": {},
   "outputs": [
    {
     "name": "stdout",
     "output_type": "stream",
     "text": [
      "Total instances before filtering: 5548\n"
     ]
    }
   ],
   "source": [
    "total_instances = df.shape[0]\n",
    "print(\"Total instances before filtering:\", total_instances)"
   ]
  },
  {
   "cell_type": "code",
   "execution_count": 55,
   "metadata": {},
   "outputs": [],
   "source": [
    "# Filter out rows where 'article_url' contains \"zacks.com\" because zacks.com block all request using cookie.\n",
    "df = df[~df['article_url'].str.contains(\"zacks.com\", na=False)]"
   ]
  },
  {
   "cell_type": "code",
   "execution_count": 56,
   "metadata": {},
   "outputs": [],
   "source": [
    "# Filter out rows where 'article_url' contains \"benzinga.com\" because benzinga.com have problems with 429 too many requests.\n",
    "df = df[~df['article_url'].str.contains(\"benzinga.com\", na=False)]"
   ]
  },
  {
   "cell_type": "code",
   "execution_count": 57,
   "metadata": {},
   "outputs": [
    {
     "name": "stdout",
     "output_type": "stream",
     "text": [
      "Total instances after filtering: 2024\n"
     ]
    }
   ],
   "source": [
    "total_instances = df.shape[0]\n",
    "print(\"Total instances after filtering:\", total_instances)"
   ]
  },
  {
   "cell_type": "markdown",
   "metadata": {},
   "source": [
    "### Exploratory Data Analysis"
   ]
  },
  {
   "cell_type": "markdown",
   "metadata": {},
   "source": [
    "##### Example Article"
   ]
  },
  {
   "cell_type": "code",
   "execution_count": 132,
   "metadata": {},
   "outputs": [
    {
     "name": "stdout",
     "output_type": "stream",
     "text": [
      "Publisher: {'name': 'GlobeNewswire Inc.', 'homepage_url': 'https://www.globenewswire.com'}\n",
      "--------------------------------------------------\n",
      "Title: Mullen Announces Class 3 Vehicle Purchase Order with NRTC Automation Group\n",
      "--------------------------------------------------\n",
      "Summary: Mullen Automotive, an electric vehicle manufacturer, has received a multi-unit vehicle purchase order from NRTC Automation Group, an Alabama-based company focused on automotive manufacturing automation. NRTC will initially purchase three all-electric commercial Class 3 Mullen trucks, with deliveries expected to begin in Q4 2023.\n",
      "--------------------------------------------------\n",
      "URL: https://www.globenewswire.com/news-release/2023/08/28/2732679/0/en/Mullen-Announces-Class-3-Vehicle-Purchase-Order-with-NRTC-Automation-Group.html\n",
      "--------------------------------------------------\n",
      "Published At: 2023-08-28 13:30:00\n",
      "--------------------------------------------------\n",
      "Keywords: ['electric vehicles', 'commercial trucks', 'manufacturing automation']\n",
      "--------------------------------------------------\n",
      "Tickers: ['MULN']\n",
      "--------------------------------------------------\n",
      "Sentiment dictionary:\n",
      "\"[{'ticker': 'MULN', 'sentiment': 'positive', 'sentiment_reasoning': \\\"The article highlights Mullen Automotive's success in securing a purchase order for its commercial electric vehicles, indicating the company's growth and market positioning.\\\"}]\"\n"
     ]
    }
   ],
   "source": [
    "article = df.iloc[1001]\n",
    "publisher = article['publisher']#['name']\n",
    "title = article['title']\n",
    "summary = article['description']\n",
    "url = article['article_url']\n",
    "published_utc = article['published_utc']\n",
    "published_at = datetime.strptime(published_utc, '%Y-%m-%dT%H:%M:%SZ')\n",
    "keywords = article['keywords']\n",
    "tickers = article['tickers']\n",
    "sentiment_dict = article['insights']\n",
    "\n",
    "# Print the article details nicely as an example\n",
    "print(f\"Publisher: {publisher}\")\n",
    "print(\"-\"*50)\n",
    "print(f\"Title: {title}\")\n",
    "print(\"-\"*50)\n",
    "print(f\"Summary: {summary}\")\n",
    "print(\"-\"*50)\n",
    "print(f\"URL: {url}\")\n",
    "print(\"-\"*50)\n",
    "print(f\"Published At: {published_at}\")\n",
    "print(\"-\"*50)\n",
    "print(f\"Keywords: {keywords}\")\n",
    "print(\"-\"*50)\n",
    "print(f\"Tickers: {tickers}\")\n",
    "print(\"-\"*50)\n",
    "print(f\"Sentiment dictionary:\\n{json.dumps(sentiment_dict, indent=2)}\")"
   ]
  },
  {
   "cell_type": "markdown",
   "metadata": {},
   "source": [
    "##### Analyzing Tickers and Sentiments"
   ]
  },
  {
   "cell_type": "code",
   "execution_count": null,
   "metadata": {},
   "outputs": [
    {
     "data": {
      "image/png": "[encoded data removed]",
      "text/plain": [
       "<Figure size 864x432 with 1 Axes>"
      ]
     },
     "metadata": {
      "needs_background": "light"
     },
     "output_type": "display_data"
    },
    {
     "data": {
      "image/png": "[encoded data removed]",
      "text/plain": [
       "<Figure size 576x432 with 1 Axes>"
      ]
     },
     "metadata": {},
     "output_type": "display_data"
    }
   ],
   "source": [
    "# Count the occurrences of each ticker\n",
    "ticker_counts = Counter([ticker for tickers in df['tickers'] for ticker in tickers])\n",
    "\n",
    "# Get the top 10 most mentioned tickers\n",
    "top_10_tickers = dict(ticker_counts.most_common(10))\n",
    "\n",
    "# Plot the top 10 tickers\n",
    "plt.figure(figsize=(12, 6))\n",
    "plt.bar(top_10_tickers.keys(), top_10_tickers.values())\n",
    "plt.title('Top 10 Most Mentioned Tickers')\n",
    "plt.xlabel('Ticker')\n",
    "plt.ylabel('Number of Mentions')\n",
    "plt.xticks(rotation=45)\n",
    "plt.tight_layout()\n",
    "plt.show()\n",
    "\n",
    "# Analyze sentiment distribution\n",
    "sentiment_counts = Counter([insight['sentiment'] for insights in df['insights'] for insight in insights])\n",
    "\n",
    "# Plot sentiment distribution\n",
    "plt.figure(figsize=(8, 6))\n",
    "plt.pie(sentiment_counts.values(), labels=sentiment_counts.keys(), autopct='%1.1f%%')\n",
    "plt.title('Distribution of Sentiments')\n",
    "plt.axis('equal')\n",
    "plt.show()"
   ]
  },
  {
   "cell_type": "markdown",
   "metadata": {},
   "source": [
    "##### Keywords Analysis"
   ]
  },
  {
   "cell_type": "code",
   "execution_count": null,
   "metadata": {},
   "outputs": [
    {
     "data": {
      "image/png": "[encoded data removed]",
      "text/plain": [
       "<Figure size 864x432 with 1 Axes>"
      ]
     },
     "metadata": {
      "needs_background": "light"
     },
     "output_type": "display_data"
    }
   ],
   "source": [
    "# Flatten the list of keywords\n",
    "all_keywords = [keyword for keywords in df['keywords'] for keyword in keywords]\n",
    "\n",
    "# Count the occurrences of each keyword\n",
    "keyword_counts = Counter(all_keywords)\n",
    "\n",
    "# Get the top 20 most common keywords\n",
    "top_20_keywords = dict(keyword_counts.most_common(20))\n",
    "\n",
    "# Plot the top 20 keywords\n",
    "plt.figure(figsize=(12, 6))\n",
    "plt.bar(top_20_keywords.keys(), top_20_keywords.values())\n",
    "plt.title('Top 20 Most Common Keywords')\n",
    "plt.xlabel('Keyword')\n",
    "plt.ylabel('Number of Occurrences')\n",
    "plt.xticks(rotation=90)\n",
    "plt.tight_layout()\n",
    "plt.show()"
   ]
  },
  {
   "cell_type": "markdown",
   "metadata": {},
   "source": [
    "##### Tickers Keywords"
   ]
  },
  {
   "cell_type": "code",
   "execution_count": null,
   "metadata": {},
   "outputs": [
    {
     "name": "stdout",
     "output_type": "stream",
     "text": [
      "['ARI', 'SAN', 'MRVI', 'META', 'CMCSA', 'DIS', 'NFLX', 'WBD', 'NFLX', 'VZ', 'IBIO', 'PHVS', 'NVTAQ', 'DIS', 'WBA', 'BA', 'WILYY', 'TVTX', 'TRGP', 'UPST', 'NVDA', 'NXPI', 'ZVRA', 'SPCE', 'ASTS', 'ASTSW', 'BKSY', 'BKSY.WS', 'JNJ', 'MDT', 'ALLY', 'PLD', 'CCI', 'WAL', 'WALpA', 'ALLO', 'AMZN', 'NVDA', 'META', 'TSLA', 'TSLA', 'M', 'GWRS', 'NUS', 'PTON', 'TSLA', 'MSFT', 'NVDA', 'F', 'FpB', 'FpC', 'FpD', 'GM', 'XOM', 'CRSP', 'AXSM', 'PFE', 'PANW', 'AAPL', 'MRO', 'UTSI', 'TSLA', 'NFLX', 'TISI', 'AAPL', 'WHEN', 'IVA', 'RGF', 'WMT', 'PRE', 'PREpJ', 'CNOB', 'CNOBP', 'X', 'NUE', 'STLD', 'QCOM', 'INTC', 'AMD', 'AAPL', 'GNFT', 'IPSEY', 'AKYA', 'GABC', 'NRBO', 'ONCT', 'INO', 'KO', 'BNNCY', 'INO', 'NVAX', 'FFIV', 'FTNT', 'JNPR', 'ORIC', 'MLTX', 'SE', 'DDOG', 'DOCN', 'ALKT', 'TMUS', 'VZ', 'T', 'TBB', 'TBC', 'TpA', 'TpC', 'VCISY', 'KO', 'DIS', 'PBLA', 'MSFT', 'AAPL', 'GOOG', 'GOOGL', 'NVDA', 'AMZN', 'T', 'TBB', 'TBC', 'TpA', 'TpC', 'GME', 'CHWY', 'F', 'FpB', 'FpC', 'FpD', 'RIVN', 'DTB', 'DTE', 'DTG', 'DTW', 'AAPL', 'MSFT', 'SIX', 'RDWR', 'NVDA', 'CRWD', 'FNKO', 'BLK', 'QS', 'SOFI', 'ROKU', 'OXY', 'OXY.WS', 'CIEN', 'JNPR', 'HWM', 'HWMp', 'NEM', 'GOLD', 'KGC', 'AU', 'AEM', 'DSNKY', 'OPTT', 'FRCB', 'NYCB', 'NYCBpA', 'NYCBpU', 'ET', 'ETpI', 'NCNA', 'NDAQ', 'TSLA', 'GOOG', 'GOOGL', 'UBER', 'BRK.A', 'BRK.B', 'AAPL', 'BAC', 'BACpB', 'BACpE', 'BACpK', 'BACpL', 'BACpM', 'BACpN', 'BACpO', 'BACpP', 'BACpQ', 'BACpS', 'BMLpG', 'BMLpH', 'BMLpJ', 'BMLpL', 'MERpK', 'AXP', 'KO', 'CVX', 'WFC', 'WFCpA', 'WFCpC', 'WFCpD', 'WFCpL', 'WFCpY', 'WFCpZ', 'GS', 'GSpA', 'GSpC', 'GSpD', 'WMT', 'GCT', 'AMPL', 'HUBG', 'HIMX', 'AGS', 'V', 'AXP', 'PYPL', 'WFC', 'WFCpA', 'WFCpC', 'WFCpD', 'WFCpL', 'WFCpY', 'WFCpZ', 'BAC', 'BACpB', 'BACpE', 'BACpK', 'BACpL', 'BACpM', 'BACpN', 'BACpO', 'BACpP', 'BACpQ', 'BACpS', 'BMLpG', 'BMLpH', 'BMLpJ', 'BMLpL', 'MERpK', 'AMJB', 'JPM', 'JPMpC', 'JPMpD', 'JPMpJ', 'JPMpK', 'JPMpL', 'JPMpM', 'COF', 'COFpI', 'COFpJ', 'COFpK', 'COFpL', 'COFpN', 'PNC', 'USB', 'USBpA', 'USBpH', 'USBpP', 'USBpQ', 'USBpR', 'USBpS', 'TFC', 'TFCpI', 'TFCpO', 'TFCpR', 'CRWS', 'COHR', 'RXEEY', 'CLSD', 'OPGN', 'SBGI', 'XOM', 'AAPL', 'PYPL', 'AMZN', 'CFG', 'CFGpD', 'CFGpE', 'CFGpH', 'HSBC', 'TGT', 'MSFT', 'GECC', 'GECCI', 'GECCM', 'GECCO', 'GECCZ', 'APO', 'APOS', 'APOpA', 'XENE', 'SNAX', 'SNAXW', 'ONB', 'MTEK', 'MTEKW', 'SIDU', 'LOAN', 'FRO', 'ASND', 'ASML', 'AMZN', 'SHOP', 'DCFCQ', 'AMD', 'CRWD', 'QCOM', 'TWLO', 'KLPPY', 'IDCC', 'COCH', 'COCHW', 'SPT', 'ARCPF', 'ABNB', 'EBAY', 'TSLA', 'MSFT', 'NEP', 'LC', 'UPST', 'SOFI', 'ML', 'ML.WS', 'LUMN', 'ZM', 'SHLS', 'VEON', 'ORAN', 'GLPG', 'AVXL', 'TDOC', 'SPCE', 'JBLU', 'MNTS', 'MNTSW', 'FUBO', 'TGL', 'OTLY', 'ROKU', 'SHOP', 'CAT', 'CVX', 'DOW', 'BABA', 'BZ', 'CRVS', 'ALVO', 'ALVOW', 'TEVA', 'JNJ', 'TITN', 'AMD', 'DPZ', 'PANW', 'PLD', 'HD', 'FVRR', 'EGAN', 'BBIO', 'PYPL', 'INTU', 'UA', 'UAA', 'PARA', 'PARAA', 'NFLX', 'DIS', 'STM', 'ABT', 'O', 'Op', 'SRZN', 'SRZNW', 'VEON', 'IT', 'TERN', 'JD', 'SWK', 'CVX', 'ENB', 'CRM', 'AMZN', 'SQ', 'MELI', 'TSLA', 'GTLB', 'TU', 'KRON', 'ATOS', 'APGE', 'UMH', 'UMHpD', 'PTON', 'TRUP', 'NVDA', 'TSM', 'TDOC', 'DOCS', 'IDXX', 'ASLN', 'EYPT', 'DIS', 'EDIT', 'AMGN', 'BMY', 'CELGr', 'SHOP', 'FVRR', 'CVS', 'CLPT', 'JEWL', 'AMD', 'NVDA', 'STAG', 'AMZN', 'PLD', 'ZLAB', 'T', 'TBB', 'TBC', 'TpA', 'TpC', 'MDT', 'TROW', 'SOPA', 'ARCC', 'ET', 'ETpI', 'NRZ', 'RITM', 'RITMpA', 'RITMpB', 'RITMpC', 'RITMpD', 'NVDA', 'SHCR', 'SHCRW', 'ARM', 'AMD', 'NVDA', 'QCOM', 'AMZN', 'BLRX', 'ELEV', 'LL', 'VRM', 'DYAI', 'UPST', 'GCBC', 'SGC', 'EPM', 'MTN', 'CYTK', 'CNH', 'PLD', 'COLD', 'STAG', 'IIPR', 'IIPRpA', 'TOST', 'SOUN', 'SOUNW', 'TNXP', 'AAPL', 'MSFT', 'AMD', 'AMZN', 'PINS', 'IBM', 'MRK', 'GCBC', 'PLTR', 'AMZN', 'MSFT', 'GOOG', 'GOOGL', 'ENPH', 'SEDG', 'AAPL', 'TSLA', 'WAL', 'WALpA', 'CSWC', 'CSWCZ', 'NVS', 'SNY', 'DBVT', 'TARS', 'WPC', 'PRCT', 'MPW', 'ET', 'ETpI', 'MTRX', 'OCEA', 'OCEAW', 'PUBM', 'FCN', 'EDIT', 'SHEL', 'OSS', 'NVO', 'BA', 'PLTR', 'ALTG', 'ALTGpA', 'RILY', 'RILYG', 'RILYK', 'RILYL', 'RILYM', 'RILYN', 'RILYP', 'RILYT', 'RILYZ', 'ABNB', 'UAL', 'DAL', 'AAL', 'TRIP', 'BKNG', 'UBER', 'LYFT', 'META', 'PFIE', 'CHPT', 'SWTX', 'EP', 'EPpC', 'KMI', 'DVN', 'OVID', 'LGND', 'TAK', 'DIS', 'CMCSA', 'KMX', 'CVNA', 'HRL', 'CDT', 'SQFT', 'SQFTP', 'SQFTW', 'CBRE', 'SLG', 'SLGpI', 'VNO', 'VNOpL', 'VNOpM', 'VNOpN', 'VNOpO', 'STAG', 'DLR', 'DLRpJ', 'DLRpK', 'DLRpL', 'WD', 'CCCC', 'HII', 'FVRR', 'CREX', 'CALC', 'AZN', 'MRK', 'PSTV', 'ARM', 'INTC', 'AMD', 'VERO', 'SQ', 'O', 'Op', 'SLRX', 'WSO', 'WSO.B', 'CLFD', 'OVV', 'NVEE', 'GNSS', 'FULC', 'GSK', 'TOL', 'KIND', 'VRDN', 'IOVA', 'OCGN', 'SDIG', 'PMN', 'FFIE', 'FFIEW', 'NIO', 'IBM', 'NOK', 'GTN', 'GTN.A', 'PARA', 'PARAA', 'MSFT', 'SNE', 'NTDOY', 'SFL', 'NUWE', 'TSLA', 'BTI', 'MED', 'SE', 'NEO', 'ZI', 'SPCE', 'TGTX', 'CCNE', 'CCNEP', 'DTB', 'DTE', 'DTG', 'DTW', 'CYTK', 'NIO', 'NVDA', 'AMD', 'TSM', 'SWTX', 'BEPC', 'NEP', 'AMZN', 'V', 'PRGO', 'AMD', 'NVDA', 'VMAR', 'CNTB', 'LFCR', 'KUKE', 'DLAKY', 'CSIOY', 'LUMO', 'TTD', 'TEAM', 'IPG', 'GM', 'AMZN', 'UPST', 'MTEK', 'MTEKW', 'COIN', 'AMZN', 'MSFT', 'ABX', 'RNLX', 'LH', 'HOLX', 'VCEL', 'PRZO', 'AAPL', 'SKT', 'CLVR', 'FUND', 'DSGX', 'CETX', 'NYMT', 'NYMTL', 'NYMTM', 'NYMTN', 'NYMTZ', 'TSLA', 'MA', 'DIS', 'ADEA', 'ABNB', 'TRIP', 'VERX', 'AAPL', 'DRTS', 'DRTSW', 'DUOL', 'LDTC', 'LDTCW', 'AFRM', 'SQ', 'SHOP', 'WMT', 'RIVN', 'KAI', 'BA', 'GS', 'GSpA', 'GSpC', 'GSpD', 'DAL', 'LUV', 'AAL', 'AMST', 'CNTG', 'CVNA', 'TSLA', 'MMM', 'CGNX', 'KEYS', 'FFIC', 'BAC', 'BACpB', 'BACpE', 'BACpK', 'BACpL', 'BACpM', 'BACpN', 'BACpO', 'BACpP', 'BACpQ', 'BACpS', 'BMLpG', 'BMLpH', 'BMLpJ', 'BMLpL', 'MERpK', 'O', 'Op', 'KO', 'ARCC', 'MA', 'BRK.A', 'BRK.B', 'ORAN', 'FFNW', 'THTX', 'CFLT', 'GXO', 'EQR', 'O', 'Op', 'STAG', 'PRDSY', 'NVDA', 'CRWD', 'PLTR', 'ELDN', 'ALKS', 'ALPMY', 'URGN', 'AAPL', 'DNMR', 'COMS', 'MVIS', 'CFRXQ', 'GOOG', 'GOOGL', 'FWRG', 'STNE', 'COO', 'TU', 'ADAG', 'OXY', 'OXY.WS', 'GT', 'SPXC', 'VZ', 'CCL', 'PTON', 'ASML', 'TSM', 'KLAC', 'NVDA', 'PLTR', 'GOOG', 'GOOGL', 'CRM', 'COST', 'UNH', 'BRK.A', 'BRK.B', 'UTRS', 'PTON', 'DIS', 'GSK', 'MRK', 'NRDS', 'PLTR', 'KRT', 'SOFI', 'JSM', 'NAVI', 'SLM', 'SLMB.P', 'JYNT', 'KAVL', 'MS', 'MSpA', 'MSpE', 'MSpF', 'MSpI', 'MSpK', 'MSpL', 'MSpO', 'MSpP', 'BAC', 'BACpB', 'BACpE', 'BACpK', 'BACpL', 'BACpM', 'BACpN', 'BACpO', 'BACpP', 'BACpQ', 'BACpS', 'BMLpG', 'BMLpH', 'BMLpJ', 'BMLpL', 'MERpK', 'META', 'GOOG', 'GOOGL', 'HST', 'CRMT', 'COLL', 'SHEL', 'AAXN', 'AXON', 'ON', 'OCGN', 'JAMF', 'RUN', 'SPWR', 'ENPH', 'SEDG', 'JYNT', 'PYPL', 'INTU', 'FRD', 'RUM', 'AXGN', 'SPCE', 'LAES', 'WKEY', 'BANR', 'AMD', 'NVDA', 'BICEY', 'BAC', 'BACpB', 'BACpE', 'BACpK', 'BACpL', 'BACpM', 'BACpN', 'BACpO', 'BACpP', 'BACpQ', 'BACpS', 'BMLpG', 'BMLpH', 'BMLpJ', 'BMLpL', 'MERpK', 'AGI', 'LTRX', 'PHUN', 'BVVBY', 'AWIN', 'AAPL', 'AMZN', 'NKLA', 'TSLA', 'BPMC', 'RACE', 'IDAI', 'REGN', 'AZN', 'NVO', 'RHHBY', 'TSLA', 'PTON', 'COCO', 'DASH', 'AMGN', 'JNJ', 'AMZN', 'MELI', 'SOFI', 'LMND', 'LMND.WS', 'PGR', 'ALL', 'ALLpB', 'ALLpH', 'ALLpI', 'ALLpJ', 'APTO', 'ACVA', 'TYHOY', 'RBLX', 'PUBM', 'EQNR', 'LVO', 'ADBE', 'S', 'COHR', 'APGE', 'BKYI', 'PFE', 'RHHBY', 'ROIV', 'INTC', 'APD', 'AMZN', 'LAB', 'SBNY', 'SICP', 'FRPC', 'CVNA', 'GHSI', 'KO', 'SHOP', 'VCEL', 'MDWD', 'GRTS', 'DORM', 'ZIM', 'AAPL', 'NVDA', 'AMD', 'QCOM', 'APLS', 'VS', 'MSFT', 'MCD', 'BHP', 'INAQ', 'INAQU', 'INAQW', 'VIR', 'ISPC', 'NNDM', 'BIDU', 'PARA', 'PARAA', 'ABNB', 'PCSA', 'NRDY', 'PCSA', 'PG', 'ALB', 'ALBpA', 'APD', 'AAPL', 'HON', 'AIR', 'TNP', 'TNPpE', 'TNPpF', 'IHS', 'AGFY', 'PDFS', 'CLEGF', 'DNTUY', 'ENVX', 'NAPA', 'BF.A', 'BF.B', 'GM', 'CE', 'LLYVK', 'SIRI', 'BATRK', 'CVX', 'VZ', 'MS', 'MSpA', 'MSpE', 'MSpF', 'MSpI', 'MSpK', 'MSpL', 'MSpO', 'MSpP', 'BLK', 'CB', 'GS', 'GSpA', 'GSpC', 'GSpD', 'SCHW', 'SCHWpD', 'SCHWpJ', 'BRK.A', 'BRK.B', 'RPD', 'TSLA', 'SPCE', 'RGEN', 'PLUG', 'NOK', 'HOOD', 'OLP', 'GMED', 'T', 'TBB', 'TBC', 'TpA', 'TpC', 'DOCS', 'MCD', 'LAZ', 'ABBV', 'NI', 'QS', 'MMM', 'CBTC', 'AGNC', 'AGNCL', 'AGNCM', 'AGNCN', 'AGNCO', 'AGNCP', 'LE', 'NAT', 'GOOG', 'GOOGL', 'TSLA', 'ARTL', 'LSAK', 'DGICB', 'MAT', 'GSOL', 'LULU', 'NKE', 'TSLA', 'FATE', 'DZSI', 'ROKU', 'AGNC', 'AGNCL', 'AGNCM', 'AGNCN', 'AGNCO', 'AGNCP', 'ABNB', 'BILL', 'SWK', 'BIP', 'BIPH', 'BIPI', 'BIPJ', 'BIPpA', 'BIPpB', 'BEP', 'BEPH', 'BEPI', 'BEPJ', 'BEPpA', 'LMND', 'LMND.WS', 'OPHC', 'FVRR', 'ODV', 'PHVS', 'RRC', 'GRTX', 'BMY', 'CELGr', 'AMGN', 'PFE', 'F', 'FpB', 'FpC', 'FpD', 'STLA', 'MO', 'PG', 'BA', 'MTH', 'CGC', 'AMZN', 'GEVO', 'AMZN', 'NVDA', 'KAI', 'VOR', 'MTTR', 'NVDA', 'NVAX', 'SYTA', 'SYTAW', 'VEON', 'ABBV', 'RIVN', 'GOEV', 'GOEVW', 'LCID', 'BAYRY', 'RXRX', 'SHCO', 'OPEN', 'ALGM', 'ACLS', 'CIEN', 'SGH', 'NDSN', 'WRAP', 'TENX', 'BRK.A', 'BRK.B', 'RIOT', 'JFBR', 'JFBRW', 'VCISY', 'THCH', 'GRRR', 'GRRRW', 'FRME', 'FRMEP', 'AX', 'NTB', 'CPF', 'LOB', 'SOFI', 'STNE', 'PALI', 'QCRH', 'ESGR', 'ESGRO', 'ESGRP', 'LLY', 'XOM', 'TD', 'WBA', 'SNCR', 'SNCRL', 'KDDIY', 'SFTBY', 'WGS', 'OCEA', 'OCEAW', 'AVA', 'TSLA', 'NFLX', 'JNJ', 'MDT', 'CVS', 'LVMUY', 'AMS', 'PYPL', 'BAC', 'BACpB', 'BACpE', 'BACpK', 'BACpL', 'BACpM', 'BACpN', 'BACpO', 'BACpP', 'BACpQ', 'BACpS', 'BMLpG', 'BMLpH', 'BMLpJ', 'BMLpL', 'MERpK', 'WFC', 'WFCpA', 'WFCpC', 'WFCpD', 'WFCpL', 'WFCpY', 'WFCpZ', 'AMJB', 'JPM', 'JPMpC', 'JPMpD', 'JPMpJ', 'JPMpK', 'JPMpL', 'JPMpM', 'COF', 'COFpI', 'COFpJ', 'COFpK', 'COFpL', 'COFpN', 'PNC', 'USB', 'USBpA', 'USBpH', 'USBpP', 'USBpQ', 'USBpR', 'USBpS', 'TFC', 'TFCpI', 'TFCpO', 'TFCpR', 'SQ', 'MT', 'MNST', 'CIFR', 'CIFRW', 'AAPL', 'MSFT', 'UBER', 'LYFT', 'DUOT', 'CPNG', 'AMRN', 'HII', 'DFLI', 'DFLIW', 'VZ', 'GNFT', 'IPSEY', 'AMJB', 'JPM', 'JPMpC', 'JPMpD', 'JPMpJ', 'JPMpK', 'JPMpL', 'JPMpM', 'C', 'CpN', 'WFC', 'WFCpA', 'WFCpC', 'WFCpD', 'WFCpL', 'WFCpY', 'WFCpZ', 'UNH', 'DAL', 'PRCH', 'ASTL', 'ASTLW', 'SNAX', 'SNAXW', 'ANF', 'ARRPY', 'PFE', 'MRNA', 'NVAX', 'BTDR', 'NVDA', 'GSOL', 'CBTC', 'SALRY', 'COHR', 'ACTG', 'VZ', 'NOK', 'AMZN', 'NVR', 'MDB', 'MSFT', 'TMCI', 'AMZN', 'EBAY', 'MELI', 'ABNB', 'DIS', 'AMZN', 'TSLA', 'PLTR', 'RVSN', 'RVSNW', 'KNRRY', 'AMD', 'INTC', 'NVDA', 'AMZN', 'TDOC', 'CHPT', 'MMM', 'DE', 'DYAI', 'AMZN', 'FND', 'CRWD', 'ETSY', 'GNRC', 'HCP', 'STMH', 'UNH', 'ZS', 'CRSP', 'PANW', 'PAYC', 'VRTX', 'AI', 'MSFT', 'O', 'Op', 'PLD', 'AVB', 'SPG', 'SPGpJ', 'TXN', 'NVDA', 'EZFL', 'OPEN', 'TMCI', 'EXAI', 'BCTX', 'BCTXW', 'SO', 'SOJC', 'SOJD', 'SOJE', 'STBGY', 'MSVB', 'EGY', 'UPST', 'TSLA', 'NTLA', 'TDOC', 'QRVO', 'ME', 'SNPS', 'TPIC', 'TGT', 'CMPX', 'PLTR', 'AMIGY', 'NVDA', 'AMZN', 'AMZN', 'INTC', 'NWL', 'BFI', 'DIS', 'NFLX', 'CWCO', 'SOFI', 'NU', 'AMZN', 'GOOG', 'GOOGL', 'AAPL', 'META', 'NFLX', 'SWK', 'INDP', 'CCO', 'EBS', 'MS', 'MSpA', 'MSpE', 'MSpF', 'MSpI', 'MSpK', 'MSpL', 'MSpO', 'MSpP', 'CLOV', 'WOLF', 'ONTO', 'SKYT', 'GOOG', 'GOOGL', 'F', 'FpB', 'FpC', 'FpD', 'TSLA', 'RIVN', 'CRWD', 'BKNG', 'CROX', 'DG', 'NFLX', 'ICU', 'NVO', 'CLVR', 'MSFT', 'GOOG', 'GOOGL', 'AMZN', 'AAPL', 'DALN', 'BVS', 'ACAC', 'ACACU', 'ACACW', 'INTA', 'NARI', 'CVS', 'UNH', 'ABT', 'ALLY', 'W', 'IBKR', 'PGR', 'MMC', 'MDLZ', 'INVH', 'CPT', 'XNET', 'ENB', 'BIPC', 'O', 'Op', 'BCAB', 'STRM', 'BSAC', 'JCSE', 'ADVT', 'NURO', 'ITGR', 'PLXS', 'ABNB', 'META', 'PYPL', 'QCOM', 'WMT', 'AMZN', 'COO', 'DUOL', 'TDG', 'COST', 'AAPL', 'AVGO', 'AAPL', 'AMZN', 'SNOW', 'AMZN', 'AMD', 'AAPL', 'ENVX', 'ORIC', 'AMZN', 'XENE', 'TDOC', 'LOVE', 'SIRI', 'INTU', 'NFLX', 'GOEV', 'GOEVW', 'OMQS', 'NVDA', 'INTC', 'GOOG', 'GOOGL', 'TSLA', 'APGE', 'WBA', 'MMM', 'VZ', 'AMBA', 'QGEN', 'TGLS', 'CUE', 'VCISY', 'RXT', 'DELL', 'NVDA', 'AAPL', 'KO', 'PG', 'WBA', 'CSWC', 'CSWCZ', 'AMD', 'NVDA', 'CPRX', 'MARA', 'MA', 'V', 'T', 'TBB', 'TBC', 'TpA', 'TpC', 'SHOP', 'JNJ', 'PEP', 'EGRX', 'TOL', 'ZBRA', 'PSTV', 'MSFT', 'AMZN', 'NVDA', 'PATH', 'SIBN', 'LUNG', 'AAPL', 'META', 'WING', 'REGN', 'KO', 'BAC', 'BACpB', 'BACpE', 'BACpK', 'BACpL', 'BACpM', 'BACpN', 'BACpO', 'BACpP', 'BACpQ', 'BACpS', 'BMLpG', 'BMLpH', 'BMLpJ', 'BMLpL', 'MERpK', 'RBLX', 'XPO', 'RJF', 'RJFpB', 'LMND', 'LMND.WS', 'GOOG', 'GOOGL', 'NVDA', 'AMZN', 'MSFT', 'SPWR', 'NEP', 'RIVN', 'ENB', 'D', 'SGHT', 'ABT', 'ENZ', 'FF', 'FSLR', 'AQST', 'MNDO', 'INOD', 'AAPL', 'MSFT', 'GOOG', 'GOOGL', 'AMZN', 'META', 'COIN', 'GSOL', 'CFLT', 'TNXP', 'AI', 'FUTU', 'OR', 'SHOP', 'NIO', 'BEAM', 'ROKU', 'UPST', 'PDD', 'BABA', 'JDCMF', 'AMZN', 'WMT', 'PCTY', 'UPST', 'NKLA', 'TOL', 'EDBL', 'EDBLW', 'AI', 'GOOG', 'GOOGL', 'AMZN', 'INTC', 'MSFT', 'BKR', 'ARDX', 'PSNL', 'AMRN', 'ABNB', 'AMZN', 'DDOG', 'LRLCY', 'OLMA', 'GFS', 'LMT', 'TOI', 'BA', 'NKE', 'SPOT', 'GSL', 'GSLpB', 'SNTI', 'DAVE', 'DAVEW', 'ATAO', 'GOOG', 'GOOGL', 'STNE', 'LGIQ', 'CAUD', 'NEP', 'BEPC', 'CWEN', 'CWEN.A', 'BZUN', 'ABEO', 'ALVO', 'ALVOW', 'BTI', 'AAPL', 'AMZN', 'PGR', 'MDXG', 'INSP', 'CLS', 'EL', 'ADAP', 'GSK', 'RSLS', 'PG', 'FRT', 'FRTpC', 'BKH', 'AGESY', 'ACST', 'RELL', 'AGI', 'SANA', 'AMZN', 'DUOL', 'BEP', 'BEPH', 'BEPI', 'BEPJ', 'BEPpA', 'DH', 'BBU', 'VZ', 'MCD', 'PG', 'BTAI', 'ALLR', 'LGVN', 'ONCT', 'TSLA', 'LMND', 'LMND.WS', 'ALL', 'ALLpB', 'ALLpH', 'ALLpI', 'ALLpJ', 'OLO', 'WING', 'BBWI', 'TEVA', 'VTRS', 'UPST', 'AGRX', 'AVGO', 'NVDA', 'AMD', 'ON', 'NXPI', 'PFE', 'GSK', 'BMY', 'CELGr', 'PH', 'F', 'FpB', 'FpC', 'FpD', 'WMT', 'TSLA', 'F', 'FpB', 'FpC', 'FpD', 'GM', 'AVAV', 'ASRT', 'OR', 'PRTS', 'ORLY', 'AZO', 'GPC', 'AAP', 'CHPT', 'CAT', 'HSY', 'LOW', 'HD', 'LULU', 'AMJB', 'JPM', 'JPMpC', 'JPMpD', 'JPMpJ', 'JPMpK', 'JPMpL', 'JPMpM', 'MOTS', 'BRK.A', 'BRK.B', 'VIR', 'VRTX', 'CRSP', 'MU', 'AMD', 'MSFT', 'RBLX', 'GOOG', 'GOOGL', 'META', 'BMY', 'CELGr', 'VRTX', 'LLY', 'CRMT', 'LFMD', 'LFMDP', 'FFNW', 'RUM', 'NVDA', 'AMD', 'NFLX', 'TSLA', 'ELF', 'LUNR', 'LUNRW', 'ABBV', 'MPW', 'META', 'ALLT', 'NKLA', 'VSCO', 'EDIT', 'CFLT', 'DPZ', 'LEE', 'AI', 'AMT', 'BIPC', 'AVGO', 'SFM', 'WMT', 'SKT', 'EFTR', 'EFTRW', 'AMCX', 'NVS', 'VRTX', 'NCNO', 'KRYS', 'BZH', 'MYNZ', 'VCIG', 'TOL', 'SYM', 'PHIO', 'FLNC', 'BCS', 'BIIB', 'NVDA', 'AMD', 'INTC', 'DSGX', 'AXP', 'DFH', 'MSFT', 'AAPL', 'IVA', 'AMT', 'IVVD', 'CHPT', 'NKLA', 'PLSAY', 'WHR', 'ONCT', 'MKC', 'MKC.V', 'OSS', 'SHEL', 'CACC', 'RRC', 'BYND', 'XOM', 'CVX', 'O', 'Op', 'ESS', 'STAG', 'AGBA', 'AGBAW', 'TU', 'FLIC', 'AMST', 'INST', 'GOOG', 'GOOGL', 'INTA', 'HUIZ', 'HUBS', 'MDB', 'EEFT', 'FTRE', 'MESO', 'TSLA', 'AMZN', 'CHPT', 'TSLA', 'SHEL', 'AMGN', 'ABNB', 'COIN', 'GSOL', 'U', 'PG', 'DDOG', 'ZVSA', 'AMZN', 'WBD', 'WTBA', 'EVAX', 'MO', 'BTI', 'QGEN', 'SNDL', 'TSLA', 'AAPL', 'MSFT', 'WMT', 'META', 'BAC', 'BACpB', 'BACpE', 'BACpK', 'BACpL', 'BACpM', 'BACpN', 'BACpO', 'BACpP', 'BACpQ', 'BACpS', 'BMLpG', 'BMLpH', 'BMLpJ', 'BMLpL', 'MERpK', 'GS', 'GSpA', 'GSpC', 'GSpD', 'SALRY', 'PARA', 'PARAA', 'BRK.A', 'BRK.B', 'UWMC', 'UWMC.WS', 'TSM', 'NVDA', 'CMT', 'ISRG', 'XOM', 'TGT', 'HON', 'PENN', 'TLRY', 'BUD', 'GOOG', 'GOOGL', 'MSFT', 'AMZN', 'DIS', 'NFLX', 'RDZN', 'RDZNW', 'BAC', 'BACpB', 'BACpE', 'BACpK', 'BACpL', 'BACpM', 'BACpN', 'BACpO', 'BACpP', 'BACpQ', 'BACpS', 'BMLpG', 'BMLpH', 'BMLpJ', 'BMLpL', 'MERpK', 'BRK.A', 'BRK.B', 'KO', 'CVX', 'IBM', 'IONQ', 'IONQ.WS', 'INTC', 'TSEM', 'RLX', 'AI', 'BKR', 'MSFT', 'PWSC', 'UPST', 'MICS', 'MCFT', 'AMZN', 'AAPL', 'BRK.A', 'BRK.B', 'MTRX', 'AXP', 'BRK.A', 'BRK.B', 'V', 'MA', 'AMJB', 'JPM', 'JPMpC', 'JPMpD', 'JPMpJ', 'JPMpK', 'JPMpL', 'JPMpM', 'BAC', 'BACpB', 'BACpE', 'BACpK', 'BACpL', 'BACpM', 'BACpN', 'BACpO', 'BACpP', 'BACpQ', 'BACpS', 'BMLpG', 'BMLpH', 'BMLpJ', 'BMLpL', 'MERpK', 'APPF', 'CISS', 'SCHW', 'SCHWpD', 'SCHWpJ', 'TGTX', 'ENPH', 'ATXI', 'VATE', 'GANX', 'FRGT', 'NEWT', 'NEWTG', 'NEWTI', 'NEWTL', 'NEWTZ', 'HLVX', 'CNXC', 'PTON', 'AAPL', 'ORAN', 'VC', 'TSLA', 'NVDA', 'MSFT', 'GOOG', 'GOOGL', 'JD', 'SIRI', 'MRNA', 'NET', 'NOK', 'DXC', 'WKEY', 'TSLA', 'GM', 'PG', 'KMB', 'STNE', 'APPN', 'PGR', 'ERAS', 'PFE', 'LLY', 'WEJOF', 'UNAM', 'ONCSQ', 'ACT', 'SNAP', 'META', 'MSFT', 'SHOP', 'ARKO', 'ARKOW', 'TSLA', 'NIO', 'BYDDY', 'SNTI', 'MSFT', 'MA', 'BRK.A', 'BRK.B', 'LAUR', 'GOEV', 'GOEVW', 'SWN', 'UEC', 'APO', 'APOS', 'APOpA', 'ASTI', 'NNDM', 'CLX', 'ADCT', 'ALVO', 'ALVOW', 'JNJ', 'TEVA', 'CRNC', 'ROKU', 'DDD', 'AEXAY', 'PINS', 'EXEL', 'RDFN', 'IIPR', 'IIPRpA', 'BIDU', 'OCS', 'ASNS', 'MKSI', 'TREX', 'PLTR', 'UPST', 'NVDA', 'EMR', 'KEYS', 'FTV', 'BTCS', 'KRUS', 'PODC', 'LVO', 'HAYN', 'LCID', 'PLUG', 'NEP', 'MRUS', 'SLI', 'DIS', 'CMCSA', 'DIS', 'MOLN', 'TASK', 'CRVL', 'CPAY', 'SNOW', 'SFL', 'PODD', 'DXCM', 'FMC', 'RMD', 'SEDG', 'SB', 'SBpC', 'SBpD', 'AMD', 'NVDA', 'INTC', 'SNE', 'MSFT', 'ARGX', 'NVDA', 'MSFT', 'ALB', 'ALBpA', 'CRWD', 'SIX', 'FUN', 'WMG', 'FTDR', 'BSY', 'ADSK', 'TRMB', 'AMJB', 'JPM', 'JPMpC', 'JPMpD', 'JPMpJ', 'JPMpK', 'JPMpL', 'JPMpM', 'WFC', 'WFCpA', 'WFCpC', 'WFCpD', 'WFCpL', 'WFCpY', 'WFCpZ', 'BAC', 'BACpB', 'BACpE', 'BACpK', 'BACpL', 'BACpM', 'BACpN', 'BACpO', 'BACpP', 'BACpQ', 'BACpS', 'BMLpG', 'BMLpH', 'BMLpJ', 'BMLpL', 'MERpK', 'C', 'CpN', 'UPST', 'GILT', 'MAXN', 'NOVA', 'SPWR', 'RUN', 'PINS', 'AMZN', 'ITGR', 'PINS', 'GOOG', 'GOOGL', 'PYPL', 'UPST', 'CCL', 'NCLH', 'RCL', 'BSFC', 'MGNX', 'TTWO', 'SOFI', 'GAIA', 'GRTS', 'HL', 'HLpB', 'HEPS', 'STEL', 'LLY', 'GILD', 'NVO', 'LLY', 'PANW', 'CYBR', 'TENB', 'DSX', 'DSX.WS', 'DSXpB', 'TREX', 'TSLA', 'RIVN', 'IMMX', 'BMY', 'CELGr', 'JNJ', 'SOFI', 'XOM', 'FCEL', 'LLY', 'DXCM', 'UTL', 'WK', 'GOOG', 'GOOGL', 'MSFT', 'CRM', 'SNOW', 'KO', 'TBLA', 'TBLAW', 'ROKU', 'TTD', 'VYGR', 'SGMO', 'EMR', 'PG', 'CVX', 'PRGS', 'GIB', 'VSH', 'ZM', 'BTOG', 'CSLR', 'CSLRW', 'MAXN', 'ETSY', 'MRNA', 'VRTX', 'PLTR', 'NET', 'CAH', 'INKT', 'DIS', 'CMCSA', 'DLR', 'DLRpJ', 'DLRpK', 'DLRpL', 'CPT', 'ARE', 'T', 'TBB', 'TBC', 'TpA', 'TpC', 'LPLA', 'RXT', 'LVMUY', 'AAL', 'NVDA', 'GOOG', 'GOOGL', 'MSFT', 'TSLA', 'META', 'MSFT', 'NVDA', 'LMND', 'LMND.WS', 'WTW', 'AMZN', 'MSFT', 'GOOG', 'GOOGL', 'META', 'COST', 'WMT', 'UPS', 'MOFG', 'LI', 'PATH', 'ADYEY', 'GEHC', 'JCI', 'ALLE', 'AMZN', 'CRWD', 'PATH', 'ISPO', 'ISPOW', 'DIS', 'NFLX', 'AMZN', 'DIS', 'CMCSA', 'AAPL', 'CMRE', 'CMREpB', 'CMREpC', 'CMREpD', 'CMREpE', 'VVPR', 'PETQ', 'DAWN', 'LAES', 'WKEY', 'GEVO', 'SLI', 'BIGC', 'VCISY', 'NDAQ', 'ENLT', 'TD', 'GXO', 'FTNT', 'AGIO', 'OFLX', 'SHEL', 'IMVT', 'LECO', 'WPP', 'DNTUY', 'EQNR', 'FTRE', 'AAP', 'ORLY', 'AZO', 'BIOR', 'FLIC', 'AIM', 'AZN', 'NET', 'GRI', 'PHG', 'OXSQ', 'OXSQG', 'OXSQZ', 'SFIX', 'RIVN', 'AMZN', 'F', 'FpB', 'FpC', 'FpD', 'GTLS', 'GTLSpB', 'NCNO', 'DKNG', 'RIVN', 'BTTR', 'AYI', 'TER', 'JEF', 'GS', 'GSpA', 'GSpC', 'GSpD', 'AMJB', 'JPM', 'JPMpC', 'JPMpD', 'JPMpJ', 'JPMpK', 'JPMpL', 'JPMpM', 'AMS', 'ARKO', 'ARKOW', 'BNRE', 'BNRE.A', 'ATHA', 'SHYF', 'RIG', 'VAL', 'VAL.WS', 'EBAY', 'AMZN', 'PROF', 'BTI', 'SOUN', 'SOUNW', 'BBAI', 'BBAI.WS', 'KGC', 'VRAYQ', 'OPTT', 'COO', 'FIVE', 'INTC', 'AMD', 'BLPH', 'CSWC', 'CSWCZ', 'VMAR', 'OPRA', 'GS', 'GSpA', 'GSpC', 'GSpD', 'DKS', 'ITW', 'XOM', 'CVX', 'KO', 'JNJ', 'TSLA', 'AMZN', 'NVAX', 'PFE', 'MRNA', 'SBUX', 'MTN', 'HD', 'EVLO', 'WULF', 'LLAP', 'LLAP.WS', 'COSM', 'WALD', 'WALDW', 'NDAQ', 'HOFT', 'DIS', 'CMCSA', 'WNC', 'POWW', 'POWWP', 'FCNCA', 'ARDX', 'BRK.A', 'BRK.B', 'AAPL', 'KO', 'V', 'GTN', 'GTN.A', 'MBOT', 'NFLX', 'DIS', 'AAPL', 'TSLA', 'PAX', 'DXR', 'DIS', 'SIRI', 'GM', 'AMZN', 'MA', 'W', 'CWCO', 'OCTO', 'BBIG', 'SLG', 'SLGpI', 'STXS', 'NVO', 'LLY', 'AXSM', 'CRSP', 'WKHS', 'UAN', 'ZIMV', 'VCISY', 'GXO', 'ZLNDY', 'VCISY', 'NOA', 'DKNG', 'ENVX', 'BA', 'AAPL', 'BAC', 'BACpB', 'BACpE', 'BACpK', 'BACpL', 'BACpM', 'BACpN', 'BACpO', 'BACpP', 'BACpQ', 'BACpS', 'BMLpG', 'BMLpH', 'BMLpJ', 'BMLpL', 'MERpK', 'NKTR', 'SIRI', 'VIRI', 'BRK.A', 'BRK.B', 'ALLY', 'BAC', 'BACpB', 'BACpE', 'BACpK', 'BACpL', 'BACpM', 'BACpN', 'BACpO', 'BACpP', 'BACpQ', 'BACpS', 'BMLpG', 'BMLpH', 'BMLpJ', 'BMLpL', 'MERpK', 'GM', 'CRMT', 'DSS', 'ACIU', 'OLP', 'CWEN', 'CWEN.A', 'AGRI', 'AGRIW', 'GOOG', 'GOOGL', 'MSFT', 'KA', 'AMJB', 'JPM', 'JPMpC', 'JPMpD', 'JPMpJ', 'JPMpK', 'JPMpL', 'JPMpM', 'SKE', 'ALVO', 'ALVOW', 'ACB', 'SNDL', 'MMM', 'PG', 'KMB', 'CLSD', 'ARGX', 'EBS', 'FDMT', 'PODC', 'LVO', 'LNXSY', 'SLI', 'SPG', 'SPGpJ', 'NLY', 'NLYpF', 'NLYpG', 'NLYpI', 'RRC', 'OKTA', 'AWRE', 'EZFL', 'SHEL', 'CMLS', 'STC', 'BOLL', 'GD', 'HII', 'ACIU', 'ADBE', 'ADSK', 'IOVA', 'GLPG', 'META', 'TPST', 'PFLT', 'KMI', 'VZ', 'WPC', 'LMND', 'LMND.WS', 'TGSGY', 'GOOG', 'GOOGL', 'GM', 'TSLA', 'DOCS', 'AMZN', 'SAVA', 'TTD', 'GOOG', 'GOOGL', 'META', 'AAPL', 'MGNI', 'AYI', 'CINF', 'BRK.A', 'BRK.B', 'EFXT', 'AMD', 'AMBA', 'SYM', 'NET', 'ESTC', 'SANG', 'APO', 'APOS', 'APOpA', 'AAPL', 'NVDA', 'AUID', 'AWI', 'AAPL', 'BRK.A', 'BRK.B', 'WBD', 'TSLA', 'WDC', 'VIGL', 'FUN', 'LVTX', 'BROS', 'SBUX', 'NEP', 'VZ', 'GLPI', 'DDL', 'MTNB', 'PYPL', 'GOOG', 'GOOGL', 'AAPL', 'ISPO', 'ISPOW', 'LILM', 'LILMW', 'DLAKY', 'CERT', 'PG', 'BRK.A', 'BRK.B', 'AAPL', 'KO', 'ATAI', 'APAM', 'AAPL', 'MSFT', 'SIRI', 'HL', 'HLpB', 'LUMN', 'HUT', 'JZXN', 'STAG', 'BAC', 'BACpB', 'BACpE', 'BACpK', 'BACpL', 'BACpM', 'BACpN', 'BACpO', 'BACpP', 'BACpQ', 'BACpS', 'BMLpG', 'BMLpH', 'BMLpJ', 'BMLpL', 'MERpK', 'KO', 'XAIR', 'JAMF', 'PETS', 'CNP', 'ESCA', 'CRSP', 'MDT', 'HIVE', 'BREA', 'SUPN', 'INTC', 'AMD', 'NVDA', 'TSM', 'UNF', 'NVDA', 'MSFT', 'GOOG', 'GOOGL', 'NUWE', 'ASRT', 'AAPL', 'BAC', 'BACpB', 'BACpE', 'BACpK', 'BACpL', 'BACpM', 'BACpN', 'BACpO', 'BACpP', 'BACpQ', 'BACpS', 'BMLpG', 'BMLpH', 'BMLpJ', 'BMLpL', 'MERpK', 'AXP', 'KO', 'CVX', 'OXY', 'OXY.WS', 'ABNB', 'VZ', 'TTD', 'SHOP', 'CDNS', 'CLVR', 'V', 'AXP', 'DFS', 'MA', 'PAA', 'ET', 'ETpI', 'MPLX', 'APCX', 'APCXW', 'PINS', 'SBH', 'PAYC', 'CI', 'APA', 'GDEV', 'GDEVW', 'VINP', 'ADMA', 'TSCO', 'VLEEY', 'FLWS', 'DTB', 'DTE', 'DTG', 'DTW', 'MSFT', 'CHWY', 'REGN', 'CMG', 'LOW', 'STBX', 'HII', 'SILO', 'AAPL', 'AMZN', 'MMM', 'PG', 'MSFT', 'IIPR', 'IIPRpA', 'AMZN', 'GOOG', 'GOOGL', 'ODC', 'UEC', 'NXE', 'VEON', 'INVH', 'PSA', 'PSApF', 'PSApG', 'PSApH', 'PSApI', 'PSApJ', 'PSApK', 'PSApL', 'PSApM', 'PSApN', 'PSApO', 'PSApP', 'PSApQ', 'PSApR', 'PSApS', 'WPC', 'MULN', 'BAP', 'CCL', 'MPW', 'GMAB', 'ABBV', 'AMZN', 'VZ', 'T', 'TBB', 'TBC', 'TpA', 'TpC', 'GEHC', 'UPS', 'COUR', 'CGAU', 'ABX', 'HL', 'HLpB', 'AU', 'ABNB', 'NBN', 'IBM', 'INTC', 'T', 'TBB', 'TBC', 'TpA', 'TpC', 'DIS', 'AMT', 'MFG', 'EQNR', 'PFE', 'BNTX', 'ABUS', 'MSFT', 'AMZN', 'GOOG', 'GOOGL', 'AAPL', 'TSLA', 'SWTX', 'AMAT', 'KURA', 'NEWT', 'NEWTG', 'NEWTI', 'NEWTL', 'NEWTZ', 'OCEA', 'OCEAW', 'COHR', 'CMPS', 'HCXY', 'HTGC', 'DKNG', 'PLUG', 'GNLX', 'SVRA', 'MRUS', 'COST', 'BLDE', 'BLDEW', 'SHOP', 'MODG', 'CCL', 'ROKU', 'NFLX', 'DIS', 'PLUG', 'PTC', 'ON', 'ITW', 'MA', 'JD', 'VRTX', 'META', 'AWI', 'EGRX', 'RDY', 'CAG', 'FARM', 'TBLT', 'PHG', 'LRLCY', 'BPTH', 'GOOG', 'GOOGL', 'NFLX', 'PH', 'ORIC', 'TURN', 'LMT', 'NOC', 'RHI', 'DSX', 'DSX.WS', 'DSXpB', 'OP', 'SKLZ', 'RIVN', 'LCID', 'CHPT', 'TSLA', 'TLRY', 'OVLY', 'SHOP', 'AMZN', 'WMT', 'TGT', 'REE', 'LVO', 'ETSY', 'SHOP', 'BLDE', 'BLDEW', 'EDBL', 'EDBLW', 'VZ', 'RHHBY', 'XOMA', 'XOMAO', 'XOMAP', 'MGTX', 'FTS', 'KTTA', 'KTTAW', 'BRK.A', 'BRK.B', 'TSM', 'BIOR', 'LAZR', 'REFI', 'RYTM', 'CTM', 'AMD', 'AMZN', 'AAPL', 'AMD', 'VIGL', 'VSAC', 'VSACU', 'VSACW', 'SYM', 'WMT', 'SFTBY', 'ARQT', 'RELY', 'SHYF', 'AAPL', 'PSN', 'MTX', 'ORGO', 'TERN', 'MO', 'VZ', 'MMM', 'PFE', 'CFLT', 'WMT', 'TSLA', 'AMZN', 'META', 'CUE', 'NU', 'BRK.A', 'BRK.B', 'ASLN', 'CMCL', 'GSOL', 'CBTC', 'NKLA', 'GM', 'KAI', 'COST', 'KHC', 'PG', 'LLY', 'AAPL', 'WFC', 'WFCpA', 'WFCpC', 'WFCpD', 'WFCpL', 'WFCpY', 'WFCpZ', 'CBG', 'SLG', 'SLGpI', 'OPI', 'VNO', 'VNOpL', 'VNOpM', 'VNOpN', 'VNOpO', 'GS', 'GSpA', 'GSpC', 'GSpD', 'MS', 'MSpA', 'MSpE', 'MSpF', 'MSpI', 'MSpK', 'MSpL', 'MSpO', 'MSpP', 'CFG', 'CFGpD', 'CFGpE', 'CFGpH', 'CRKN', 'ETSY', 'SHOP', 'AMZN', 'COST', 'MDB', 'ZS', 'CRWD', 'NATR', 'RARE', 'D', 'BRK.A', 'BRK.B', 'STEP', 'BDTX', 'STM', 'SPCE', 'FDX', 'ABNB', 'SHOP', 'ETSY', 'VZ', 'RELY', 'META', 'GOOG', 'GOOGL', 'SNAP', 'HROW', 'HROWL', 'HROWM', 'NVDA', 'SMCI', 'CXW', 'NVDA', 'NTDOY', 'AMZN', 'BLK', 'PSTL', 'NVS', 'AXSM', 'T', 'TBB', 'TBC', 'TpA', 'TpC', 'NVDA', 'TXN', 'V', 'PLTR', 'DUOL', 'CRWD', 'BX', 'AAPL', 'GOOG', 'GOOGL', 'CVLG', 'FORD', 'CETX', 'VCON', 'BC', 'BCpA', 'BCpB', 'BCpC', 'MRCY', 'SYNA', 'ASTE', 'RKT', 'COOP', 'UWMC', 'UWMC.WS', 'SAP', 'DOX', 'GETY', 'UNP', 'SEDG', 'ENPH', 'GOOG', 'GOOGL', 'T', 'TBB', 'TBC', 'TpA', 'TpC', 'DIS', 'F', 'FpB', 'FpC', 'FpD', 'DYAI', 'PAHC', 'TARS', 'ALLT', 'BCRX', 'GOGL', 'DIS', 'HD', 'O', 'Op', 'ADC', 'ADCpA', 'STAG', 'MSFT', 'TTD', 'SNPS', 'LTBR', 'LXRX', 'TSLA', 'CRWD', 'MREO', 'RARE', 'CHPT', 'U', 'META', 'AMAT', 'WFC', 'WFCpA', 'WFCpC', 'WFCpD', 'WFCpL', 'WFCpY', 'WFCpZ', 'SCHW', 'SCHWpD', 'SCHWpJ', 'TSLA', 'PMTS', 'SCHW', 'SCHWpD', 'SCHWpJ', 'JFBR', 'JFBRW', 'NU', 'BRK.A', 'BRK.B', 'EXAS', 'ROKU', 'HD', 'LOW', 'STM', 'F', 'FpB', 'FpC', 'FpD', 'BRO', 'DDOG', 'AIP', 'OCGN', 'SKT', 'JFBR', 'JFBRW', 'VCEL', 'PHVS', 'SOFI', 'VZ', 'AMTB', 'TDOC', 'TNDM', 'OXY', 'OXY.WS', 'DVN', 'MRO', 'ADIL', 'BGFV', 'AI', 'JEF', 'WFC', 'WFCpA', 'WFCpC', 'WFCpD', 'WFCpL', 'WFCpY', 'WFCpZ', 'BELFB', 'NVDA', 'NVO', 'LLY', 'MDGL', 'JCI', 'CRARY', 'COIN', 'TSLA', 'UBER', 'DASH', 'KRT', 'SNOW', 'CRWD', 'USB', 'USBpA', 'USBpH', 'USBpP', 'USBpQ', 'USBpR', 'USBpS', 'AMJB', 'JPM', 'JPMpC', 'JPMpD', 'JPMpJ', 'JPMpK', 'JPMpL', 'JPMpM', 'SALRY', 'SBUX', 'NYXH', 'JNJ', 'BSX', 'URGN', 'OI', 'CART', 'DASH', 'UBER', 'KR', 'IBKR', 'EPD', 'AM', 'ARLP', 'RTX', 'UL', 'FULC', 'PASG', 'MRNA', 'MRK', 'AMZN', 'AMZN', 'AAPL', 'KO', 'PG', 'HD', 'AMD', 'AMZN', 'AAPL', 'MSFT', 'NVDA', 'SNOW', 'TSLA', 'PINE', 'MANU', 'GEHC', 'LTRX', 'VTLE', 'PASG', 'V', 'KNSL', 'ASR', 'DELL', 'LNVGY', 'ABEV', 'PYXS', 'POET', 'DTEGY', 'ORAN', 'TEF', 'VOD', 'RCI', 'RIVN', 'NIO', 'TSLA', 'MGPI', 'MGIH', 'NDAQ', 'HUBS', 'CRM', 'WBD', 'RARE', 'ROKU', 'NFLX', 'WMT', 'SPOT', 'PARA', 'PARAA', 'CMCSA', 'WBD', 'PSN', 'SBEV', 'SBEV.WS', 'CLNN', 'CLNNW', 'ASXC', 'AKBA', 'BSFC', 'LXP', 'LXPpC', 'IRTC', 'FTNT', 'PANW', 'CRWD', 'PNBK', 'FRME', 'FRMEP', 'KXIN', 'SAGE', 'BIIB', 'HZO', 'PBPB', 'CHDN', 'RH', 'ABSI', 'ALMRY', 'SLI', 'BCTX', 'BCTXW', 'ONCT', 'CLVR', 'NVDA', 'META', 'KHC', 'AXP', 'T', 'TBB', 'TBC', 'TpA', 'TpC', 'ASTL', 'ASTLW', 'MDLZ', 'FTNT', 'CABA', 'ABNB', 'KO', 'DOV', 'GPC', 'MRNA', 'SFL', 'SEBYY', 'CRARY', 'JTAI', 'JTAIW', 'JTAIZ', 'MGNX', 'CHDN', 'CHPT', 'MMM', 'CDMO', 'VIR', 'RCUS', 'NVRI', 'TRDA', 'M', 'NIO', 'TSLA', 'CRVL', 'BIIB', 'SSSGY', 'RGEN', 'AMD', 'CRSR', 'KA', 'MRK', 'PYPL', 'TTD', 'ETSY', 'VZ', 'ARCC', 'MPW', 'ADBE', 'TTMI', 'RACE', 'ETSY', 'BRK.A', 'BRK.B', 'DTSS', 'AMZN', 'MSFT', 'WMT', 'COST', 'AMZN', 'EXEL', 'TTOO', 'GOOG', 'GOOGL', 'AIP', 'ENPH', 'JNJ', 'LUNR', 'LUNRW', 'ANGI', 'IAC', 'SHEL', 'MSFT', 'AMZN', 'NVDA', 'MRK', 'CVS', 'ANF', 'SNAP', 'CACC', 'MAC', 'TGT', 'BURL', 'TOL', 'SBLK', 'RCM', 'HD', 'DIS', 'PEP', 'MKSI', 'BSET', 'AAPL', 'VZ', 'AAPL', 'ZVSA', 'BNTX', 'GMAB', 'REGN', 'SNY', 'PFE', 'PHGE', 'PHGE.U', 'TSLA', 'ORAN', 'VRSK', 'FMST', 'FMSTW', 'STBGY', 'AMZN', 'GOOG', 'GOOGL', 'TEAM', 'SNAL', 'PASG', 'ASML', 'AMZN', 'GOOG', 'GOOGL', 'TSLA', 'TSM', 'INTC', 'TXN', 'NINOY', 'CAJPY', 'DPRO', 'FEAM', 'NXL', 'WPC', 'WKEY', 'RIVN', 'T', 'TBB', 'TBC', 'TpA', 'TpC', 'SNCR', 'SNCRL', 'RXT', 'IPDN', 'SDA', 'NIO', 'USB', 'USBpA', 'USBpH', 'USBpP', 'USBpQ', 'USBpR', 'USBpS', 'PNC', 'TFC', 'TFCpI', 'TFCpO', 'TFCpR', 'STXS', 'BLNK', 'NVDA', 'TXN', 'EH', 'VOXX', 'NVEE', 'TERN', 'FMC', 'SNY', 'PLAB', 'CRVS', 'GSOL', 'TFFP', 'NARI', 'UFPT', 'TOST', 'U', 'TTD', 'SALRY', 'SCLX', 'SCLXW', 'ETSY', 'SHOP', 'EQBK', 'ALT', 'DIBS', 'TTD', 'DOCN', 'UBER', 'UNIT', 'LTRX', 'ULCC', 'DVN', 'ROKU', 'ROKU', 'ABBV', 'BIP', 'BIPH', 'BIPI', 'BIPJ', 'BIPpA', 'BIPpB', 'BEP', 'BEPH', 'BEPI', 'BEPJ', 'BEPpA', 'CCI', 'ET', 'ETpI', 'EPD', 'USB', 'USBpA', 'USBpH', 'USBpP', 'USBpQ', 'USBpR', 'USBpS', 'MPLX', 'BBWI', 'AMZN', 'EPOW', 'VRNS', 'GOOG', 'GOOGL', 'AAXN', 'AXON', 'GM', 'NVDA', 'VZ', 'VERV', 'IMMX', 'UPST', 'HTLF', 'HTLFP', 'FTNT', 'PINS', 'NVAX', 'AAXN', 'AXON', 'FINV', 'TSLA', 'BYDDY', 'OXBR', 'OXBRW', 'PLAB', 'SEAT', 'SEATW', 'SPOT', 'HPQ', 'BRK.A', 'BRK.B', 'NAT', 'SPWH', 'ASAN', 'CHPT', 'TSLA', 'AGRI', 'AGRIW', 'ISPO', 'ISPOW', 'PLTR', 'SHOP', 'MNST', 'WTBA', 'OESX', 'IZEA', 'OPCH', 'NFLX', 'CRM', 'NOW', 'MNDY', 'MSFT', 'ORCL', 'SAP', 'ADBE', 'VYGR', 'PFE', 'NVS', 'NBIX', 'SGMO', 'SHOP', 'MSFT', 'AMD', 'TSLA', 'F', 'FpB', 'FpC', 'FpD', 'RIVN', 'GNS', 'ALGM', 'SPCE', 'BRK.A', 'BRK.B', 'AMZN', 'GOOG', 'GOOGL', 'MSFT', 'NVDA', 'GOOG', 'GOOGL', 'TSLA', 'NKLA', 'PCAR', 'AEXAY', 'PTON', 'NVR', 'SEB', 'BKNG', 'SHEL', 'GOEV', 'GOEVW', 'RNLX', 'KIDS', 'UCBI', 'UCBIO', 'TRX', 'GLBE', 'FELE', 'RGEN', 'WPC', 'MMM', 'AMZN', 'TSLA', 'TWOU', 'AMZN', 'NOC', 'CNXC', 'PBLA', 'DVN', 'OXY', 'OXY.WS', 'EQNR', 'TOT', 'TTE', 'VZ', 'ENVX', 'AMZN', 'BBAAY', 'GSOL', 'KKR', 'KKRS', 'BLK', 'BAC', 'BACpB', 'BACpE', 'BACpK', 'BACpL', 'BACpM', 'BACpN', 'BACpO', 'BACpP', 'BACpQ', 'BACpS', 'BMLpG', 'BMLpH', 'BMLpJ', 'BMLpL', 'MERpK', 'BYND', 'CAVA', 'INGR', 'PYPL', 'EBAY', 'PINS', 'CRM', 'TSLA', 'NVTAQ', 'MCFT', 'MCD', 'PG', 'AAPL', 'NVDA', 'MSFT', 'GOOG', 'GOOGL', 'AMZN', 'META', 'TSLA', 'AVGO', 'LLY', 'ADBE', 'MRNA', 'PFE', 'LXRX', 'MDGL', 'MEOH', 'VRTX', 'CRSP', 'VZ', 'INTC', 'GOOG', 'GOOGL', 'FVRR', 'AMZN', 'AMC', 'PRLD', 'PLD', 'BX', 'HTOO', 'HTOOW', 'KO', 'JNJ', 'NFLX', 'NVDA', 'SPSC', 'TSN', 'PYPL', 'MSFT', 'PM', 'EL', 'V', 'BRC', 'ZVSA', 'ALVO', 'ALVOW', 'FSLR', 'TSLA', 'FND', 'HD', 'LOW', 'BRK.A', 'BRK.B', 'CNTA', 'LVTX', 'DUOL', 'XLO', 'RHHBY', 'TTD', 'ZS', 'WBA', 'FUL', 'TSLA', 'CYTK', 'AMJB', 'JPM', 'JPMpC', 'JPMpD', 'JPMpJ', 'JPMpK', 'JPMpL', 'JPMpM', 'C', 'CpN', 'JNJ', 'F', 'FpB', 'FpC', 'FpD', 'MDXH', 'SNOW', 'BDRX', 'CVX', 'WMB', 'OPGN', 'CPRI', 'TPR', 'PFE', 'LLY', 'NVO', 'CRSP', 'MSFT', 'NVDA', 'ABNB', 'AMZN', 'LRCX', 'TEAM', 'VERB', 'PYPL', 'GCT', 'BROG', 'BROGW', 'HD', 'MMM', 'V', 'MSFT', 'GOOG', 'GOOGL', 'VERO', 'FFIC', 'SBNY', 'BGXX', 'NOC', 'AVPT', 'AVPTW', 'JNJ', 'DLO', 'META', 'NFLX', 'JELD', 'GOOG', 'GOOGL', 'IPSC', 'KO', 'ENPH', 'TSLA', 'SEDG', 'AGRX', 'FISI', 'ETD', 'CRWD', 'ABNB', 'PATH', 'TELNY', 'SQ', 'LULU', 'TLRY', 'ACHR', 'ACHR.WS', 'DCO', 'KO', 'PEP', 'S', 'CRWD', 'AIM', 'FAST', 'VIR', 'SNY', 'AMGN', 'MLYS', 'RIG', 'ASXC', 'CLNN', 'CLNNW', 'CHWY', 'PINS', 'ETSY', 'BEN', 'EXPD', 'AMCR', 'WHR', 'RHI', 'WKHS', 'RUM', 'BKR', 'KMI', 'WTRG', 'AROC', 'TGSGY', 'NDAQ', 'CAVA', 'VFS', 'ARM', 'CART', 'BIRK', 'RDDT', 'GELYY', 'HUIZ', 'BKNG', 'CELH', 'NDAQ', 'HUT', 'CNP', 'NKTX', 'BEPC', 'UPS', 'FCX', 'NNDM', 'DIS', 'AAPL', 'EBS', 'ZS', 'LOGI', 'TSM', 'O', 'Op', 'SPG', 'SPGpJ', 'AGI', 'AIM', 'PG', 'SHEL', 'MGM', 'VZ', 'COIN', 'MO', 'VZ', 'JNJ', 'ALVO', 'ALVOW', 'VICI', 'MUX', 'REGN', 'RACE', 'AAPL', 'AMZN', 'PG', 'KO', 'FCX', 'BKYI', 'CAR', 'MNKD', 'CSTL', 'TSLA', 'F', 'FpB', 'FpC', 'FpD', 'GM', 'RIVN', 'LCID', 'SWAG', 'SWAGW', 'SHEN', 'XMTR', 'BDNNY', 'STM', 'BNIX', 'BNIXR', 'BNIXW', 'GTCH', 'GECC', 'GECCI', 'GECCM', 'GECCO', 'GECCZ', 'MAC', 'MARA', 'APAM', 'GLBS', 'EPD', 'PFLT', 'VZ', 'ABNB', 'QCOM', 'AAPL', 'MKSI', 'SAM', 'DBVT', 'ETSY', 'AMZN', 'STNE', 'HOFT', 'CCL', 'LCID', 'PG', 'KR', 'CLX', 'ZVRA', 'ATRI', 'AAT', 'GLW', 'IMMX', 'ROKU', 'CVS', 'WBA', 'AMZN', 'RIVN', 'AMC', 'NIO', 'LI', 'TSLA', 'HUBS', 'GOOG', 'GOOGL', 'GTN', 'GTN.A', 'AGEN', 'GOLD', 'AOS', 'ECX', 'BB', 'AUTL', 'AMAT', 'IBM', 'ALLO', 'GNS', 'PDSB', 'FSTR', 'AAPL', 'VXRT', 'BAFN', 'PSN', 'BDORY', 'BBD', 'BBDO', 'LPLA', 'BIIB', 'FRSX', 'UFCS', 'WRAP', 'DVN', 'ENPH', 'ENOV', 'FUBO', 'DIS', 'INTC', 'NVDA', 'AMD', 'PCSA', 'FLIDY', 'GOOG', 'GOOGL', 'META', 'SOFI', 'T', 'TBB', 'TBC', 'TpA', 'TpC', 'ENB', 'ARR', 'ARRpC', 'IRON', 'SHOP', 'AMZN', 'ETSY', 'WIX', 'SQSP', 'CMCL', 'LEG', 'MMM', 'FSLY', 'WAL', 'WALpA', 'BSAC', 'AXSM', 'BEAM', 'BEP', 'BEPH', 'BEPI', 'BEPJ', 'BEPpA', 'EQNR', 'CAVA', 'DSX', 'DSX.WS', 'DSXpB', 'RDFN', 'OPEN', 'Z', 'ZG', 'ETSY', 'KLPPY', 'NVDA', 'IRM', 'MAIN', 'ABBV', 'BEPC', 'O', 'Op', 'TROW', 'HIVE', 'BIMI', 'NDAQ', 'AONC', 'BKH', 'DUK', 'DUKB', 'DUKpA', 'D', 'AEP', 'CRVS', 'STAG', 'META', 'MTTR', 'U', 'RBLX', 'HSAI', 'OUST', 'OUST.WS', 'OUST.WS.A', 'PLYM', 'GCBC', 'BLUE', 'ROKU', 'JAMF', 'SO', 'SOJC', 'SOJD', 'SOJE', 'SCYX', 'GSK', 'UHAL', 'UHAL.B', 'IEP', 'GOOG', 'GOOGL', 'VZ', 'AMZN', 'MSFT', 'GOOG', 'GOOGL', 'AMZN', 'MSFT', 'GOOG', 'GOOGL', 'NRIX', 'IPG', 'NVDA', 'SEDG', 'BEKE', 'CVGI', 'GOOG', 'GOOGL', 'CRSP', 'MG', 'NYXH', 'RMD', 'NDAQ', 'BWEN', 'MKTX', 'KRC', 'SLG', 'SLGpI', 'VNO', 'VNOpL', 'VNOpM', 'VNOpN', 'VNOpO', 'BGFV', 'BMRA', 'BITF', 'ACT', 'ODV', 'BBGI', 'KR', 'WMT', 'COST', 'PBLA', 'NU', 'TDOC', 'ROKU', 'JNJ', 'AMZN', 'WMT', 'WMT', 'COST', 'NKLA', 'BRO', 'CMCL', 'TSLA', 'SHOP', 'EXAS', 'SLS', 'PLTR', 'NVDA', 'VERO', 'NDAQ', 'EPOW', 'HBM', 'VZ', 'WBA', 'MMM', 'PGC', 'DLR', 'DLRpJ', 'DLRpK', 'DLRpL', 'GOOG', 'GOOGL', 'TTD', 'VLD', 'VLD.WS', 'TSLA', 'HON', 'LMT', 'SOFI', 'KNSL', 'TMUS', 'VZ', 'T', 'TBB', 'TBC', 'TpA', 'TpC', 'HAYN', 'OMH', 'BLKB', 'NVDA', 'MSFT', 'ORCL', 'GOOG', 'GOOGL', 'HTLD', 'BRLT', 'PANW', 'AQST', 'INDV', 'HYPMY', 'ASRT', 'SILK', 'HII', 'XOMA', 'XOMAO', 'XOMAP', 'CNDT', 'VZ', 'INMD', 'MDT', 'T', 'TBB', 'TBC', 'TpA', 'TpC', 'ERIC', 'MDXH', 'ME', 'GOOG', 'GOOGL', 'ADBE', 'AI', 'AUID', 'ABM', 'BLK', 'NAT', 'TCBI', 'TCBIO', 'TOP', 'APLD', 'NFLX', 'DIS', 'WBD', 'BBSI', 'VZ', 'SXTP', 'SXTPW', 'HNNMY', 'IDEXY', 'FRCOY', 'NKE', 'LULU', 'NRGV', 'IBCP', 'ETSY', 'DG', 'ARGX', 'BTG', 'ADEA', 'MTTR', 'AMZN', 'BLNK', 'EVGO', 'EVGOW', 'CHPT', 'TSLA', 'F', 'FpB', 'FpC', 'FpD', 'ZIVO', 'HPQ', 'SINT', 'FELE', 'NVDA', 'AAPL', 'ORAN', 'SBGSY', 'ATUS', 'CSCO', 'BRK.A', 'BRK.B', 'O', 'Op', 'WM', 'ABSI', 'AZN', 'TDY', 'GTN', 'GTN.A', 'TSLA', 'NXPI', 'CCI', 'DLR', 'DLRpJ', 'DLRpK', 'DLRpL', 'PLD', 'AI', 'UPST', 'CNET', 'BIP', 'BIPH', 'BIPI', 'BIPJ', 'BIPpA', 'BIPpB', 'BIPC', 'SASR', 'AWH', 'VYNE', 'ONFO', 'ONFOW', 'LLY', 'INGR', 'LLY', 'AZN', 'BAYRY', 'CHKP', 'DGICB', 'GRVY', 'BBIO', 'GLDD', 'ABOS', 'CTS', 'QS', 'NIO', 'XPEV', 'MXCT', 'ALGS', 'WDAY', 'MNDY', 'ABT', 'ABBV', 'AMT', 'CCI', 'QS', 'VWAGY', 'ROKU', 'TECK', 'QSG', 'DLR', 'DLRpJ', 'DLRpK', 'DLRpL', 'NVDA', 'MSFT', 'KODK', 'WDAY', 'ADCT', 'LVMUY', 'CHDRY', 'HNNA', 'HNNAZ', 'PALI', 'XFOR', 'ODD', 'FSI', 'MTCH', 'GOOG', 'GOOGL', 'AAPL', 'SWTX', 'NEP', 'FAST', 'SQ', 'RBLX', 'DELL', 'HPE', 'LNVGY', 'ABOS', 'EXAS', 'VRTX', 'NVDA', 'TSLA', 'AMD', 'INTC', 'GOOG', 'GOOGL', 'TOL', 'CCL', 'TOVX', 'IRON', 'SBUX', 'NSRGY', 'ZNTL', 'IBM', 'KD', 'AMZN', 'MSFT', 'GOOG', 'GOOGL', 'FRTX', 'BXPHF', 'DFLI', 'DFLIW', 'MPW', 'EGAN', 'IT', 'STLD', 'X', 'NUE', 'T', 'TBB', 'TBC', 'TpA', 'TpC', 'INTC', 'ZLAB', 'NXTC', 'BWEN']\n"
     ]
    }
   ],
   "source": [
    "tickers_data = [ticker for tickers in df['tickers'] for ticker in tickers]\n",
    "print(tickers_data)"
   ]
  },
  {
   "cell_type": "markdown",
   "metadata": {},
   "source": [
    "### Feature Engineering"
   ]
  },
  {
   "cell_type": "markdown",
   "metadata": {},
   "source": [
    "##### Web scrapping & Preprocessing"
   ]
  },
  {
   "cell_type": "code",
   "execution_count": 34,
   "metadata": {},
   "outputs": [],
   "source": [
    "# Web Scrapping\n",
    "def get_article_text(url, retries=3):\n",
    "    attempt = 0\n",
    "    while attempt < retries:\n",
    "        try:\n",
    "            article = Article(url)\n",
    "            article.download()\n",
    "            article.parse()\n",
    "            return article.text\n",
    "        except Exception as e:\n",
    "            wait_time = (2 ** attempt) + random.uniform(0, 1)\n",
    "            print(f\"Attempt {attempt + 1} failed for {url}. Retrying in {wait_time:.2f} seconds.\")\n",
    "            time.sleep(wait_time)\n",
    "            attempt += 1\n",
    "    print(f\"Failed to fetch article after {retries} attempts for {url}\")\n",
    "    return None"
   ]
  },
  {
   "cell_type": "code",
   "execution_count": null,
   "metadata": {},
   "outputs": [],
   "source": [
    "# Preprocessing text\n",
    "def preprocess_text(text):\n",
    "    # Lowercase text\n",
    "    text = text.lower()\n",
    "    # Remove URLs\n",
    "    text = re.sub(r'http\\S+|www.\\S+', '', text)\n",
    "    # Remove punctuation\n",
    "    text = text.translate(str.maketrans('', '', string.punctuation))\n",
    "    # Tokenize into words\n",
    "    words = word_tokenize(text)\n",
    "    # Remove stop words\n",
    "    stop_words = set(stopwords.words('english'))\n",
    "    words = [word for word in words if word not in stop_words]\n",
    "    # Lemmatize words\n",
    "    lemmatizer = WordNetLemmatizer()\n",
    "    words = [lemmatizer.lemmatize(word) for word in words]\n",
    "    # Rejoin words into a cleaned text\n",
    "    clean_text = ' '.join(words)\n",
    "    return clean_text"
   ]
  },
  {
   "cell_type": "code",
   "execution_count": null,
   "metadata": {},
   "outputs": [],
   "source": [
    "# Create empty lists to store the original text\n",
    "df['raw_text'] = df['article_url'].apply(get_article_text)"
   ]
  },
  {
   "cell_type": "code",
   "execution_count": 43,
   "metadata": {},
   "outputs": [],
   "source": [
    "# Create empty lists to store the preprocessed text\n",
    "df['preprocessed_text'] = df['raw_text'].apply(preprocess_text)"
   ]
  },
  {
   "cell_type": "code",
   "execution_count": 125,
   "metadata": {},
   "outputs": [],
   "source": [
    "non_string_text = ~df['raw_text'].apply(lambda x: isinstance(x, str))"
   ]
  },
  {
   "cell_type": "code",
   "execution_count": 126,
   "metadata": {},
   "outputs": [],
   "source": [
    "# Drop rows with non-string values\n",
    "df = df[~non_string_text].reset_index(drop=True)"
   ]
  },
  {
   "cell_type": "code",
   "execution_count": 55,
   "metadata": {},
   "outputs": [],
   "source": [
    "def extract_label(insight):    \n",
    "    label_list = []\n",
    "    for label_dict in insight:\n",
    "        label = {}\n",
    "        label[\"ticker\"] = label_dict[\"ticker\"]\n",
    "        label[\"sentiment\"] = label_dict[\"sentiment\"]\n",
    "        label_list.append(label)\n",
    "    return label\n",
    "\n",
    "# Put the neccesary label to df['label']\n",
    "df[\"label\"] = df[\"insights\"].apply(extract_label)"
   ]
  },
  {
   "cell_type": "markdown",
   "metadata": {},
   "source": [
    "##### Removing unidentified tickers"
   ]
  },
  {
   "cell_type": "code",
   "execution_count": 7,
   "metadata": {},
   "outputs": [],
   "source": [
    "# Load the JSON data from the file\n",
    "with open('tickers.json', 'r') as file:\n",
    "    data = json.load(file)\n",
    "\n",
    "# Create the new dictionary with ticker as the key and title as the value\n",
    "ticker_title_dict = {entry['ticker']: entry['title'] for entry in data.values()}"
   ]
  },
  {
   "cell_type": "code",
   "execution_count": 89,
   "metadata": {},
   "outputs": [
    {
     "name": "stdout",
     "output_type": "stream",
     "text": [
      "['INSP', 'EEFT', 'MOTS', 'LE', 'XENE', 'CVGI', 'HIMX', 'KUKE', 'S', 'AKYA', 'DVN', 'ARGX', 'TENX', 'DSGX', 'W', 'ABEV', 'ABEO', 'NATR', 'FUND', 'INO', 'CCL', 'WING', 'FSTR', 'BELFB', 'AWIN', 'ESCA', 'TERN', 'TRX', 'CMCL', 'DDL', 'EVAX', 'AMCX', 'AMST', 'ABT', 'DALN', 'PTON', 'TXN', 'DPZ', 'IRON', 'XOM', 'DXR', 'NXE', 'THTX', 'ADBE', 'PHUN', 'NI', 'AVA', 'BCRX', 'OMQS', 'MDB', 'MCD', 'JNPR', 'DOCN', 'PROF', 'NKTX', 'GRVY', 'EGAN', 'NCNO', 'MXCT', 'CAG', 'SPCE', 'CELH', 'ABOS', 'LOAN', 'EL', 'IRTC', 'PNBK', 'RDY', 'HIVE', 'BLKB', 'APLS', 'AI', 'LEG', 'QRVO', 'WMG', 'TNXP', 'REGN', 'PLTR', 'SGC', 'ELF', 'IBKR', 'ODD', 'XPO', 'CXW', 'PFIE', 'FFIC', 'CRWD', 'FRGT', 'NOC', 'VINP', 'GLW', 'EMR', 'LPLA', 'AVGO', 'WPC', 'PFE', 'DDOG', 'AGIO', 'SHOP', 'PINS', 'FUN', 'VMAR', 'LTBR', 'PCTY', 'BCAB', 'KODK', 'AMS', 'AIR', 'DH', 'LRCX', 'FVRR', 'RLX', 'INGR', 'MMM', 'KIDS', 'OPTT', 'PODC', 'OPEN', 'GEHC', 'NKE', 'MODG', 'BBSI', 'NVR', 'RTX', 'MKTX', 'TRMB', 'AVAV', 'BEKE', 'MNST', 'HUBS', 'MOFG', 'DOW', 'OMH', 'PINE', 'TRDA', 'AWRE', 'FTNT', 'CLSD', 'MSFT', 'TOL', 'SWK', 'CUE', 'CNTB', 'ZIMV', 'VRTX', 'OCTO', 'PRTS', 'HUT', 'BLUE', 'MDXG', 'WOLF', 'NFLX', 'PAX', 'ACT', 'NU', 'NRBO', 'IDAI', 'BKR', 'ZBRA', 'OVV', 'TREX', 'NRGV', 'PSTV', 'OPHC', 'BKYI', 'CRM', 'SKE', 'SBLK', 'ZNTL', 'MA', 'SAVA', 'MRVI', 'AVXL', 'BLNK', 'GXO', 'PAYC', 'SINT', 'UFCS', 'TASK', 'PRCH', 'CRSR', 'BSY', 'PAHC', 'OLP', 'GANX', 'EXAS', 'IPSC', 'PSNL', 'RPD', 'SMCI', 'SEB', 'IVVD', 'BLK', 'HZO', 'CRVL', 'AMC', 'SNAP', 'BRC', 'RIOT', 'SLRX', 'SNOW', 'CAVA', 'BBIO', 'EYPT', 'QSG', 'NVDA', 'LUNG', 'QGEN', 'OI', 'GNS', 'ABM', 'CART', 'TFFP', 'IDCC', 'COCO', 'ARM', 'GILT', 'SVRA', 'PYPL', 'NKLA', 'HSY', 'BBU', 'CRKN', 'DKS', 'CLPT', 'SGMO', 'BMRA', 'GABC', 'LUMO', 'VZ', 'REE', 'MDLZ', 'DFH', 'VATE', 'CCO', 'PRLD', 'AIM', 'BITF', 'BWEN', 'NXPI', 'CVX', 'BTCS', 'CALC', 'CAH', 'BNTX', 'PANW', 'ORGO', 'SNAL', 'HD', 'CPRX', 'COST', 'OTLY', 'NRDY', 'MNDO', 'DORM', 'SIRI', 'COUR', 'CERT', 'ITGR', 'BSET', 'NARI', 'FFNW', 'TOP', 'FWRG', 'PLXS', 'MARA', 'NXTC', 'LUMN', 'INVH', 'BBGI', 'LAUR', 'ADIL', 'ASTI', 'TVTX', 'SNPS', 'VRDN', 'MBOT', 'GOLD', 'PLYM', 'BRO', 'AMD', 'IBCP', 'AUTL', 'TER', 'CGNX', 'MKSI', 'PM', 'EBS', 'MSVB', 'ATOS', 'BKNG', 'NUE', 'AGI', 'NOA', 'AWH', 'EFXT', 'STXS', 'WMB', 'CFLT', 'BROS', 'IT', 'UFPT', 'FSLR', 'FARM', 'OCGN', 'ASND', 'SYNA', 'OESX', 'SILO', 'PG', 'TMCI', 'KR', 'VOXX', 'SAM', 'PBPB', 'SEDG', 'GCT', 'ANGI', 'HII', 'HBM', 'VXRT', 'ARDX', 'SUPN', 'VIR', 'MU', 'TRUP', 'PETQ', 'FCN', 'STC', 'DCO', 'VYNE', 'BLPH', 'RACE', 'NWL', 'ARCC', 'SBGI', 'MAT', 'M', 'TPST', 'BRLT', 'VERX', 'AUID', 'TEAM', 'LAB', 'ZM', 'RDWR', 'EPM', 'PGC', 'ISPC', 'UEC', 'AYI', 'AGS', 'UTSI', 'VRNS', 'CRSP', 'HAYN', 'ACIU', 'FORD', 'AIP', 'RARE', 'NET', 'UAN', 'CHPT', 'LAZR', 'BZH', 'ETSY', 'ZI', 'DGICB', 'WDC', 'DIBS', 'IMMX', 'AAP', 'MAIN', 'TRGP', 'GCBC', 'KRT', 'DAL', 'MRNA', 'AOS', 'CAR', 'LGIQ', 'BDTX', 'FFIV', 'ABUS', 'EH', 'ITW', 'META', 'LVO', 'IBM', 'BSX', 'MNKD', 'RELY', 'NCLH', 'FRSX', 'KIND', 'CAUD', 'SDIG', 'AXSM', 'BBIG', 'RCM', 'ADEA', 'APD', 'GNSS', 'MGIH', 'AMZN', 'BREA', 'MOLN', 'BIMI', 'AXP', 'JAMF', 'JCI', 'NVRI', 'HUBG', 'SIBN', 'VOR', 'BPTH', 'CLVR', 'EGY', 'LSAK', 'U', 'INKT', 'TURN', 'FINV', 'ASNS', 'BZ', 'HRL', 'SHCO', 'RGEN', 'RXT', 'MGTX', 'STEP', 'BEPC', 'DLO', 'TBLT', 'RBLX', 'SFIX', 'NCNA', 'CPAY', 'VERO', 'LTRX', 'GEVO', 'FNKO', 'GTLB', 'HPQ', 'CNET', 'BDRX', 'MDXH', 'MMC', 'DZSI', 'HTLD', 'TTOO', 'COO', 'HLVX', 'SE', 'EPOW', 'CLFD', 'CRWS', 'VEON', 'RSLS', 'FUTU', 'AMAT', 'TTMI', 'PCAR', 'AAL', 'BTOG', 'GNLX', 'CRNC', 'CPNG', 'MDT', 'SBH', 'BSAC', 'DKNG', 'CVLG', 'KURA', 'SKYT', 'ABBV', 'CROX', 'STRM', 'MANU', 'FDX', 'MGPI', 'HST', 'AQST', 'PFLT', 'SYM', 'ZIM', 'CI', 'BGFV', 'DBVT', 'DTSS', 'SKT', 'SPXC', 'VYGR', 'VRSK', 'FSLY', 'NAT', 'AROC', 'IPDN', 'JYNT', 'LAZ', 'DDD', 'JZXN', 'FRD', 'APTO', 'VERV', 'ADSK', 'MG', 'ABNB', 'NYXH', 'HON', 'OPGN', 'OFLX', 'PBLA', 'FCX', 'PHIO', 'MRUS', 'RHI', 'SLS', 'TSN', 'TWLO', 'SPT', 'FUBO', 'TSEM', 'STNE', 'PEP', 'FTV', 'SKLZ', 'CDMO', 'ENVX', 'ZLAB', 'SFL', 'MO', 'BYND', 'SPWH', 'AMPL', 'WHEN', 'GAIA', 'CTM', 'PDFS', 'MAC', 'BTG', 'LOW', 'ESTC', 'SPSC', 'CNDT', 'MEOH', 'VTLE', 'NEO', 'CNH', 'BIOR', 'CVNA', 'GRI', 'BGXX', 'TU', 'WTW', 'MGM', 'INTU', 'DIS', 'AXGN', 'AMRN', 'BIIB', 'HEPS', 'IOVA', 'TPR', 'NDAQ', 'URGN', 'KXIN', 'TGLS', 'BIGC', 'ZS', 'CLS', 'IMVT', 'CMPX', 'TISI', 'PTC', 'FSI', 'KMX', 'OVLY', 'IPG', 'QCOM', 'GPC', 'ARQT', 'CLOV', 'ADMA', 'GME', 'QS', 'ANF', 'V', 'CWCO', 'NNDM', 'UTL', 'PATH', 'INTC', 'CNP', 'OLMA', 'SNDL', 'ZVRA', 'VCIG', 'X', 'ACTG', 'SHEN', 'APGE', 'DYAI', 'IEP', 'ATHA', 'ONTO', 'LCID', 'EXEL', 'IBIO', 'EZFL', 'ORLY', 'PUBM', 'TOVX', 'RRC', 'GLPI', 'JEWL', 'RCL', 'COIN', 'JNJ', 'OR', 'FF', 'CNXC', 'DAWN', 'CMLS', 'MREO', 'HUIZ', 'OKTA', 'ACST', 'PENN', 'SBUX', 'XAIR', 'AGEN', 'IRM', 'INMD', 'ATAI', 'CPT', 'KRON', 'STAG', 'UNF', 'ME', 'PRGO', 'FRO', 'MPW', 'DUOL', 'KEYS', 'LFCR', 'FND', 'PLUG', 'ALKT', 'CISS', 'CHDN', 'FIVE', 'PSTL', 'GHSI', 'ACB', 'PLAB', 'FAST', 'MGNX', 'GM', 'RIVN', 'TSLA', 'RYTM', 'SNTI', 'DPRO', 'ATAO', 'BSFC', 'RIG', 'STEL', 'OPCH', 'SAGE', 'ON', 'INTA', 'VERB', 'PYXS', 'AWI', 'CCCC', 'ALGM', 'FLWS', 'APPN', 'ONCT', 'TITN', 'GLBE', 'MLYS', 'EQBK', 'GLBS', 'VC', 'MDGL', 'ADAG', 'GLDD', 'STLD', 'DSS', 'KHC', 'UNIT', 'PCSA', 'OSS', 'GMED', 'UPST', 'PASG', 'AGFY', 'NRDS', 'DE', 'MLTX', 'ISRG', 'COHR', 'NVAX', 'LVTX', 'AZO', 'PH', 'ALT', 'NUS', 'WRAP', 'AAT', 'MYNZ', 'CREX', 'TRIP', 'ENZ', 'FATE', 'KRYS', 'SHYF', 'THCH', 'PDSB', 'SPOT', 'VICI', 'CHWY', 'TPIC', 'DFS', 'RCUS', 'DOV', 'CGC', 'MRK', 'JCSE', 'APA', 'ASTE', 'WKHS', 'KMB', 'CTS', 'IHS', 'ALGS', 'UBER', 'LYFT', 'DASH', 'BBWI', 'MCFT', 'PRCT', 'VVPR', 'STBX', 'ENLT', 'DUOT', 'AAPL', 'NURO', 'TROW', 'ORIC', 'GOGL', 'LXRX', 'INDP', 'DG', 'UPS', 'PMN', 'NVEE', 'VIGL', 'ODC', 'EGRX', 'BTAI', 'IAC', 'FTRE', 'QCRH', 'PSN', 'FMC', 'PETS', 'KO', 'CPRI', 'CYTK', 'EDIT', 'PRZO', 'GIB', 'CMG', 'CSTL', 'ROKU', 'TLRY', 'PRGS', 'ADCT', 'CNTA', 'APPF', 'LEE', 'ENPH', 'OLO', 'CLX', 'BX', 'TSCO', 'CHKP', 'TARS', 'GWRS', 'APAM', 'WDAY', 'MDWD', 'PLSAY', 'EXAI', 'ENOV', 'PGR', 'ATXI', 'LECO', 'HOFT', 'MNDY', 'WBD', 'POET', 'BTTR', 'TGL', 'TTWO', 'UNP', 'AMGN', 'REFI', 'SWTX', 'LGVN', 'KRUS', 'SHLS', 'VCEL', 'CACC', 'UAL', 'FELE', 'WHR', 'CAT', 'JELD', 'XNET', 'NEP', 'RH', 'BPMC', 'MRO', 'WNC', 'IZEA', 'NRIX']\n"
     ]
    }
   ],
   "source": [
    "import ast\n",
    "\n",
    "# Convert the string representations of lists into actual lists\n",
    "tickers_data = [ast.literal_eval(ticker) for ticker in df['tickers']]\n",
    "\n",
    "# Flatten the list of lists and remove duplicates by converting to a set\n",
    "flat_tickers = list(set([ticker for sublist in tickers_data for ticker in sublist]))\n",
    "\n",
    "# Print the result\n",
    "print(flat_tickers)"
   ]
  },
  {
   "cell_type": "code",
   "execution_count": 90,
   "metadata": {},
   "outputs": [],
   "source": [
    "# Checking whether ticker in dataset is in ticker.json\n",
    "org_names = []\n",
    "unidentified_ticker = []\n",
    "for ticker in flat_tickers:\n",
    "    try: \n",
    "        org_names.append(ticker_title_dict[ticker])\n",
    "    except:\n",
    "        unidentified_ticker.append(ticker)"
   ]
  },
  {
   "cell_type": "code",
   "execution_count": 91,
   "metadata": {},
   "outputs": [
    {
     "data": {
      "text/plain": [
       "0"
      ]
     },
     "execution_count": 91,
     "metadata": {},
     "output_type": "execute_result"
    }
   ],
   "source": [
    "# 277 ticker not in ticker.json\n",
    "len(unidentified_ticker)"
   ]
  },
  {
   "cell_type": "code",
   "execution_count": 83,
   "metadata": {},
   "outputs": [
    {
     "name": "stdout",
     "output_type": "stream",
     "text": [
      "Number of rows with unidentified tickers: 0\n"
     ]
    }
   ],
   "source": [
    "# Filter rows that contain any of the unidentified_ticker in df['tickers']\n",
    "rows_with_unidentified = df[df['tickers'].apply(lambda tickers: any(ticker in tickers for ticker in unidentified_ticker))]\n",
    "\n",
    "# Count the number of rows with unidentified_ticker\n",
    "count = len(rows_with_unidentified)\n",
    "print(f\"Number of rows with unidentified tickers: {count}\")"
   ]
  },
  {
   "cell_type": "code",
   "execution_count": 84,
   "metadata": {},
   "outputs": [],
   "source": [
    "# Remove rows with unidentified_ticker from the DataFrame\n",
    "df_cleaned = df[~df['tickers'].apply(lambda tickers: any(ticker in tickers for ticker in unidentified_ticker))]"
   ]
  },
  {
   "cell_type": "code",
   "execution_count": 85,
   "metadata": {},
   "outputs": [
    {
     "data": {
      "text/plain": [
       "1250"
      ]
     },
     "execution_count": 85,
     "metadata": {},
     "output_type": "execute_result"
    }
   ],
   "source": [
    "df = df_cleaned\n",
    "# Length df after cleaning\n",
    "len(df)"
   ]
  },
  {
   "cell_type": "code",
   "execution_count": 128,
   "metadata": {},
   "outputs": [],
   "source": [
    "# Save the modified DataFrame to a CSV file\n",
    "df.to_csv(\"modified_news_data.csv\", index=False)"
   ]
  },
  {
   "cell_type": "markdown",
   "metadata": {},
   "source": [
    "##### Turn df into sentence with label"
   ]
  },
  {
   "cell_type": "code",
   "execution_count": null,
   "metadata": {},
   "outputs": [],
   "source": [
    "# Example get_ticker_sentences function\n",
    "def get_ticker_sentences(content, title):\n",
    "    content = content.replace(\"\\n\", \". \")\n",
    "    sentences = sent_tokenize(content)\n",
    "    escaped_title = re.escape(title)\n",
    "    return [sentence for sentence in sentences if re.search(rf'\\b{escaped_title}\\b', sentence, re.IGNORECASE)]\n",
    "\n",
    "# Preprocess data\n",
    "def preprocess_data(df):\n",
    "    rows = []\n",
    "    for _, row in df.iterrows():\n",
    "        content = row['raw_text']\n",
    "        labels = ast.literal_eval(row['insights'])\n",
    "        for label in labels:\n",
    "            ticker = label['ticker']\n",
    "            title = ticker_title_dict[ticker]\n",
    "            sentiment = label['sentiment']\n",
    "            sentences = get_ticker_sentences(content, title)\n",
    "            for sentence in sentences:\n",
    "                rows.append({'ticker': ticker, 'sentence': sentence, 'sentiment': sentiment})\n",
    "    return pd.DataFrame(rows)\n",
    "\n",
    "processed_df = preprocess_data(df)\n"
   ]
  },
  {
   "cell_type": "code",
   "execution_count": 40,
   "metadata": {},
   "outputs": [
    {
     "data": {
      "text/html": [
       "<div>\n",
       "<style scoped>\n",
       "    .dataframe tbody tr th:only-of-type {\n",
       "        vertical-align: middle;\n",
       "    }\n",
       "\n",
       "    .dataframe tbody tr th {\n",
       "        vertical-align: top;\n",
       "    }\n",
       "\n",
       "    .dataframe thead th {\n",
       "        text-align: right;\n",
       "    }\n",
       "</style>\n",
       "<table border=\"1\" class=\"dataframe\">\n",
       "  <thead>\n",
       "    <tr style=\"text-align: right;\">\n",
       "      <th></th>\n",
       "      <th>ticker</th>\n",
       "      <th>sentence</th>\n",
       "      <th>sentiment</th>\n",
       "    </tr>\n",
       "  </thead>\n",
       "  <tbody>\n",
       "    <tr>\n",
       "      <th>0</th>\n",
       "      <td>META</td>\n",
       "      <td>Meta Platforms reported outstanding earnings.</td>\n",
       "      <td>positive</td>\n",
       "    </tr>\n",
       "    <tr>\n",
       "      <th>1</th>\n",
       "      <td>META</td>\n",
       "      <td>Meta Platforms (NASDAQ: ) has recently unveiled impressive for the second quarter of 2023.</td>\n",
       "      <td>positive</td>\n",
       "    </tr>\n",
       "    <tr>\n",
       "      <th>2</th>\n",
       "      <td>NFLX</td>\n",
       "      <td>Last year was challenging for Netflix (NFLX -0.19%).</td>\n",
       "      <td>negative</td>\n",
       "    </tr>\n",
       "    <tr>\n",
       "      <th>3</th>\n",
       "      <td>NFLX</td>\n",
       "      <td>Netflix needs to improve its growth rate.</td>\n",
       "      <td>negative</td>\n",
       "    </tr>\n",
       "    <tr>\n",
       "      <th>4</th>\n",
       "      <td>NFLX</td>\n",
       "      <td>Netflix knew for ages that people shared passwords, and it didn't care enough to do anything about it.</td>\n",
       "      <td>negative</td>\n",
       "    </tr>\n",
       "  </tbody>\n",
       "</table>\n",
       "</div>"
      ],
      "text/plain": [
       "  ticker  \\\n",
       "0   META   \n",
       "1   META   \n",
       "2   NFLX   \n",
       "3   NFLX   \n",
       "4   NFLX   \n",
       "\n",
       "                                                                                                 sentence  \\\n",
       "0                                                           Meta Platforms reported outstanding earnings.   \n",
       "1              Meta Platforms (NASDAQ: ) has recently unveiled impressive for the second quarter of 2023.   \n",
       "2                                                    Last year was challenging for Netflix (NFLX -0.19%).   \n",
       "3                                                               Netflix needs to improve its growth rate.   \n",
       "4  Netflix knew for ages that people shared passwords, and it didn't care enough to do anything about it.   \n",
       "\n",
       "  sentiment  \n",
       "0  positive  \n",
       "1  positive  \n",
       "2  negative  \n",
       "3  negative  \n",
       "4  negative  "
      ]
     },
     "execution_count": 40,
     "metadata": {},
     "output_type": "execute_result"
    }
   ],
   "source": [
    "processed_df.head()"
   ]
  },
  {
   "cell_type": "code",
   "execution_count": null,
   "metadata": {},
   "outputs": [],
   "source": [
    "# Save the modified DataFrame to a CSV file\n",
    "processed_df.to_csv(\"processed_df_individual_cleaned.csv\", index=False)"
   ]
  },
  {
   "cell_type": "markdown",
   "metadata": {},
   "source": [
    "##### Editing ticker.json"
   ]
  },
  {
   "cell_type": "code",
   "execution_count": 4,
   "metadata": {},
   "outputs": [],
   "source": [
    "# Load the JSON data from the file\n",
    "with open('tickers.json', 'r') as file:\n",
    "    data = json.load(file)"
   ]
  },
  {
   "cell_type": "code",
   "execution_count": 5,
   "metadata": {},
   "outputs": [],
   "source": [
    "# Create the new dictionary with ticker as the key and title as the value\n",
    "title_ticker_dict = {entry['title']: entry['ticker'] for entry in data.values()}"
   ]
  },
  {
   "cell_type": "code",
   "execution_count": 6,
   "metadata": {},
   "outputs": [],
   "source": [
    "redundant_titles = [' inc', ' inc.', ' corporation', ' corp.', ' corp', ' ltd', ' llc', ' co', ' technologies', ' company', ' group', ' services', ' fund', '.', ',']\n",
    "\n",
    "def normalize_title(title):\n",
    "    title = title.lower()\n",
    "    for suffix in redundant_titles:\n",
    "        title = title.replace(suffix, '')\n",
    "    return title.strip()"
   ]
  },
  {
   "cell_type": "code",
   "execution_count": 7,
   "metadata": {},
   "outputs": [],
   "source": [
    "normalized_title_ticker_dict = {}\n",
    "for title, ticker in title_ticker_dict.items():\n",
    "    norm_title = normalize_title(title)\n",
    "    normalized_title_ticker_dict[norm_title] = ticker"
   ]
  },
  {
   "cell_type": "code",
   "execution_count": 8,
   "metadata": {},
   "outputs": [],
   "source": [
    "del normalized_title_ticker_dict[\"target\"]"
   ]
  },
  {
   "cell_type": "code",
   "execution_count": 9,
   "metadata": {},
   "outputs": [],
   "source": [
    "title_ticker_dict = normalized_title_ticker_dict"
   ]
  },
  {
   "cell_type": "code",
   "execution_count": 10,
   "metadata": {},
   "outputs": [],
   "source": [
    "ticker_title_dict = {value: key for key, value in title_ticker_dict.items()}"
   ]
  },
  {
   "cell_type": "code",
   "execution_count": 77,
   "metadata": {},
   "outputs": [
    {
     "name": "stdout",
     "output_type": "stream",
     "text": [
      "Dictionaries saved to dictionaries.pkl\n"
     ]
    }
   ],
   "source": [
    "# Save the dictionary\n",
    "import pickle\n",
    "\n",
    "# Save dictionaries to a file\n",
    "def save_dictionaries(filename, *dicts):\n",
    "    with open(filename, 'wb') as file:\n",
    "        pickle.dump(dicts, file)\n",
    "    print(f\"Dictionaries saved to {filename}\")\n",
    "\n",
    "save_dictionaries(\"dictionaries.pkl\", title_ticker_dict, ticker_title_dict)"
   ]
  },
  {
   "cell_type": "markdown",
   "metadata": {},
   "source": [
    "### Sentiment Analysis Model"
   ]
  },
  {
   "cell_type": "markdown",
   "metadata": {},
   "source": [
    "##### Train"
   ]
  },
  {
   "cell_type": "code",
   "execution_count": 59,
   "metadata": {},
   "outputs": [],
   "source": [
    "# Load the modified_news_data\n",
    "processed_df = pd.read_csv('processed_df_individual_cleaned.csv')"
   ]
  },
  {
   "cell_type": "code",
   "execution_count": 60,
   "metadata": {},
   "outputs": [
    {
     "data": {
      "text/plain": [
       "8443"
      ]
     },
     "execution_count": 60,
     "metadata": {},
     "output_type": "execute_result"
    }
   ],
   "source": [
    "len(processed_df)"
   ]
  },
  {
   "cell_type": "code",
   "execution_count": 62,
   "metadata": {},
   "outputs": [],
   "source": [
    "# Split into train and validation\n",
    "train_df, val_df = train_test_split(processed_df, test_size=0.2, random_state=42)"
   ]
  },
  {
   "cell_type": "code",
   "execution_count": null,
   "metadata": {},
   "outputs": [],
   "source": [
    "# Map sentiments to numerical labels\n",
    "label_mapping = {'positive': 0, 'neutral': 1, 'negative': 2}\n",
    "train_df['label'] = train_df['sentiment'].map(label_mapping)\n",
    "val_df['label'] = val_df['sentiment'].map(label_mapping)"
   ]
  },
  {
   "cell_type": "code",
   "execution_count": null,
   "metadata": {},
   "outputs": [],
   "source": [
    "# Load FinBERT tokenizer and model\n",
    "tokenizer = BertTokenizer.from_pretrained(\"yiyanghkust/finbert-tone\")\n",
    "model = BertForSequenceClassification.from_pretrained(\"yiyanghkust/finbert-tone\", num_labels=3)\n",
    "\n",
    "# Custom dataset class\n",
    "class SentimentDataset(Dataset):\n",
    "    def __init__(self, df, tokenizer, max_len=128):\n",
    "        self.sentences = df['sentence'].tolist()\n",
    "        self.labels = df['label'].tolist()\n",
    "        self.tokenizer = tokenizer\n",
    "        self.max_len = max_len\n",
    "    \n",
    "    def __len__(self):\n",
    "        return len(self.sentences)\n",
    "    \n",
    "    def __getitem__(self, idx):\n",
    "        sentence = self.sentences[idx]\n",
    "        label = self.labels[idx]\n",
    "        encoding = self.tokenizer(\n",
    "            sentence,\n",
    "            max_length=self.max_len,\n",
    "            padding='max_length',\n",
    "            truncation=True,\n",
    "            return_tensors='pt'\n",
    "        )\n",
    "        return {\n",
    "            'input_ids': encoding['input_ids'].squeeze(),\n",
    "            'attention_mask': encoding['attention_mask'].squeeze(),\n",
    "            'labels': torch.tensor(label, dtype=torch.long)\n",
    "        }\n"
   ]
  },
  {
   "cell_type": "code",
   "execution_count": 48,
   "metadata": {},
   "outputs": [
    {
     "name": "stderr",
     "output_type": "stream",
     "text": [
      "c:\\Python38\\lib\\site-packages\\transformers\\training_args.py:1568: FutureWarning: `evaluation_strategy` is deprecated and will be removed in version 4.46 of 🤗 Transformers. Use `eval_strategy` instead\n",
      "  warnings.warn(\n"
     ]
    }
   ],
   "source": [
    "# Create datasets\n",
    "train_dataset = SentimentDataset(train_df, tokenizer)\n",
    "val_dataset = SentimentDataset(val_df, tokenizer)\n",
    "\n",
    "# Define training arguments\n",
    "training_args = TrainingArguments(\n",
    "    output_dir='./results',\n",
    "    num_train_epochs=3,\n",
    "    per_device_train_batch_size=16,\n",
    "    per_device_eval_batch_size=16,\n",
    "    warmup_steps=500,\n",
    "    weight_decay=0.01,\n",
    "    logging_dir='./logs',\n",
    "    evaluation_strategy=\"epoch\"\n",
    ")\n",
    "\n",
    "# Trainer\n",
    "trainer = Trainer(\n",
    "    model=model,\n",
    "    args=training_args,\n",
    "    train_dataset=train_dataset,\n",
    "    eval_dataset=val_dataset\n",
    ")"
   ]
  },
  {
   "cell_type": "code",
   "execution_count": 49,
   "metadata": {},
   "outputs": [
    {
     "data": {
      "application/vnd.jupyter.widget-view+json": {
       "model_id": "f2516da0460b4d8d98dd462c54e85405",
       "version_major": 2,
       "version_minor": 0
      },
      "text/plain": [
       "  0%|          | 0/1344 [00:00<?, ?it/s]"
      ]
     },
     "metadata": {},
     "output_type": "display_data"
    },
    {
     "data": {
      "application/vnd.jupyter.widget-view+json": {
       "model_id": "1ad3cbf4ad034b87be9160b1259ca355",
       "version_major": 2,
       "version_minor": 0
      },
      "text/plain": [
       "  0%|          | 0/112 [00:00<?, ?it/s]"
      ]
     },
     "metadata": {},
     "output_type": "display_data"
    },
    {
     "name": "stdout",
     "output_type": "stream",
     "text": [
      "{'eval_loss': 0.6239356398582458, 'eval_runtime': 284.2122, 'eval_samples_per_second': 6.305, 'eval_steps_per_second': 0.394, 'epoch': 1.0}\n",
      "{'loss': 1.1016, 'grad_norm': 4.893462657928467, 'learning_rate': 5e-05, 'epoch': 1.12}\n"
     ]
    },
    {
     "data": {
      "application/vnd.jupyter.widget-view+json": {
       "model_id": "e01963aa9d4b43b4b8ad7e085c369082",
       "version_major": 2,
       "version_minor": 0
      },
      "text/plain": [
       "  0%|          | 0/112 [00:00<?, ?it/s]"
      ]
     },
     "metadata": {},
     "output_type": "display_data"
    },
    {
     "name": "stdout",
     "output_type": "stream",
     "text": [
      "{'eval_loss': 0.3901144564151764, 'eval_runtime': 290.9028, 'eval_samples_per_second': 6.16, 'eval_steps_per_second': 0.385, 'epoch': 2.0}\n",
      "{'loss': 0.4, 'grad_norm': 14.869317054748535, 'learning_rate': 2.037914691943128e-05, 'epoch': 2.23}\n"
     ]
    },
    {
     "data": {
      "application/vnd.jupyter.widget-view+json": {
       "model_id": "ef890ce44e784db58d267c440adcd909",
       "version_major": 2,
       "version_minor": 0
      },
      "text/plain": [
       "  0%|          | 0/112 [00:00<?, ?it/s]"
      ]
     },
     "metadata": {},
     "output_type": "display_data"
    },
    {
     "name": "stdout",
     "output_type": "stream",
     "text": [
      "{'eval_loss': 0.48019811511039734, 'eval_runtime': 429.5887, 'eval_samples_per_second': 4.171, 'eval_steps_per_second': 0.261, 'epoch': 3.0}\n",
      "{'train_runtime': 13936.1467, 'train_samples_per_second': 1.543, 'train_steps_per_second': 0.096, 'train_loss': 0.6051441345896039, 'epoch': 3.0}\n"
     ]
    },
    {
     "data": {
      "text/plain": [
       "TrainOutput(global_step=1344, training_loss=0.6051441345896039, metrics={'train_runtime': 13936.1467, 'train_samples_per_second': 1.543, 'train_steps_per_second': 0.096, 'total_flos': 1414300398642432.0, 'train_loss': 0.6051441345896039, 'epoch': 3.0})"
      ]
     },
     "execution_count": 49,
     "metadata": {},
     "output_type": "execute_result"
    }
   ],
   "source": [
    "# Fine-tune the model\n",
    "trainer.train()"
   ]
  },
  {
   "cell_type": "code",
   "execution_count": null,
   "metadata": {},
   "outputs": [
    {
     "name": "stdout",
     "output_type": "stream",
     "text": [
      "Model and tokenizer saved to ./finbert_individual2_sentiment_model\n"
     ]
    }
   ],
   "source": [
    "\"\"\"# Save the model and tokenizer\n",
    "model_save_path = \"./finbert_individual2_sentiment_model\"\n",
    "model.save_pretrained(model_save_path)\n",
    "tokenizer.save_pretrained(model_save_path)\n",
    "\n",
    "print(f\"Model and tokenizer saved to {model_save_path}\")\"\"\""
   ]
  },
  {
   "cell_type": "markdown",
   "metadata": {},
   "source": [
    "##### Evaluation"
   ]
  },
  {
   "cell_type": "code",
   "execution_count": null,
   "metadata": {},
   "outputs": [],
   "source": [
    "# Path to the saved directory\n",
    "model_save_path = \"./finbert_individual2_sentiment_model\"\n",
    "\n",
    "# Load the model and tokenizer\n",
    "model = AutoModelForSequenceClassification.from_pretrained(model_save_path)\n",
    "tokenizer = AutoTokenizer.from_pretrained(model_save_path)\n",
    "\n",
    "print(\"Model and tokenizer loaded successfully!\")"
   ]
  },
  {
   "cell_type": "code",
   "execution_count": null,
   "metadata": {},
   "outputs": [],
   "source": [
    "def compute_metrics(pred):\n",
    "    logits, labels = pred\n",
    "    # Convert logits to predictions\n",
    "    predictions = torch.argmax(torch.tensor(logits), dim=-1).numpy()\n",
    "    # Labels are already a NumPy array\n",
    "    acc = accuracy_score(labels, predictions)\n",
    "    report = classification_report(labels, predictions, target_names=list(label_mapping.keys()), output_dict=True)\n",
    "    return {\n",
    "        \"accuracy\": acc,\n",
    "        \"precision_positive\": report['positive']['precision'],\n",
    "        \"recall_positive\": report['positive']['recall'],\n",
    "        \"f1_positive\": report['positive']['f1-score'],\n",
    "        \"precision_neutral\": report['neutral']['precision'],\n",
    "        \"recall_neutral\": report['neutral']['recall'],\n",
    "        \"f1_neutral\": report['neutral']['f1-score'],\n",
    "        \"precision_negative\": report['negative']['precision'],\n",
    "        \"recall_negative\": report['negative']['recall'],\n",
    "        \"f1_negative\": report['negative']['f1-score'],\n",
    "    }\n"
   ]
  },
  {
   "cell_type": "code",
   "execution_count": null,
   "metadata": {},
   "outputs": [],
   "source": [
    "# Add this to the Trainer\n",
    "trainer = Trainer(\n",
    "    model=model,\n",
    "    args=training_args,\n",
    "    train_dataset=train_dataset,\n",
    "    eval_dataset=val_dataset,\n",
    "    compute_metrics=compute_metrics\n",
    ")\n",
    "\n",
    "# Run evaluation\n",
    "metrics = trainer.evaluate()\n",
    "print(metrics)"
   ]
  },
  {
   "cell_type": "code",
   "execution_count": null,
   "metadata": {},
   "outputs": [
    {
     "name": "stdout",
     "output_type": "stream",
     "text": [
      "Accuracy: 0.9514505624629959\n",
      "Classification Report:\n",
      "               precision    recall  f1-score   support\n",
      "\n",
      "    positive       0.97      0.97      0.97      1246\n",
      "     neutral       0.92      0.88      0.90       276\n",
      "    negative       0.88      0.92      0.90       167\n",
      "\n",
      "    accuracy                           0.95      1689\n",
      "   macro avg       0.92      0.92      0.92      1689\n",
      "weighted avg       0.95      0.95      0.95      1689\n",
      "\n",
      "Confusion Matrix:\n",
      " [[1212   20   14]\n",
      " [  28  242    6]\n",
      " [  13    1  153]]\n"
     ]
    }
   ],
   "source": [
    "# Predict on validation set\n",
    "def evaluate_model(model, tokenizer, val_dataset):\n",
    "    all_predictions = []\n",
    "    all_labels = []\n",
    "\n",
    "    for i in range(len(val_dataset)):\n",
    "        inputs = val_dataset[i]\n",
    "        input_ids = inputs['input_ids'].unsqueeze(0)  # Add batch dimension\n",
    "        attention_mask = inputs['attention_mask'].unsqueeze(0)\n",
    "        labels = inputs['labels'].item()\n",
    "\n",
    "        with torch.no_grad():\n",
    "            outputs = model(input_ids, attention_mask=attention_mask)\n",
    "            probs = torch.nn.functional.softmax(outputs.logits, dim=-1)\n",
    "            prediction = torch.argmax(probs, dim=1).item()\n",
    "\n",
    "        all_predictions.append(prediction)\n",
    "        all_labels.append(labels)\n",
    "\n",
    "    # Compute metrics\n",
    "    accuracy = accuracy_score(all_labels, all_predictions)\n",
    "    report = classification_report(all_labels, all_predictions, target_names=list(label_mapping.keys()))\n",
    "    cm = confusion_matrix(all_labels, all_predictions)\n",
    "\n",
    "    return accuracy, report, cm\n",
    "\n",
    "# Evaluate the model\n",
    "val_dataset = SentimentDataset(val_df, tokenizer)\n",
    "accuracy, report, cm = evaluate_model(model, tokenizer, val_dataset)\n",
    "print(f\"Accuracy: {accuracy}\")\n",
    "print(\"Classification Report:\\n\", report)\n",
    "print(\"Confusion Matrix:\\n\", cm)"
   ]
  },
  {
   "cell_type": "markdown",
   "metadata": {},
   "source": [
    "### Pipeline"
   ]
  },
  {
   "cell_type": "code",
   "execution_count": null,
   "metadata": {},
   "outputs": [
    {
     "name": "stdout",
     "output_type": "stream",
     "text": [
      "Dictionaries loaded from dictionaries.pkl\n"
     ]
    }
   ],
   "source": [
    "import pickle\n",
    "# Load dictionaries \n",
    "def load_dictionaries(filename):\n",
    "    with open(filename, 'rb') as file:\n",
    "        dicts = pickle.load(file)\n",
    "    return dicts\n",
    "\n",
    "# Load dictionaries\n",
    "title_ticker_dict, ticker_title_dict = load_dictionaries(\"dictionaries.pkl\")"
   ]
  },
  {
   "cell_type": "code",
   "execution_count": null,
   "metadata": {},
   "outputs": [
    {
     "name": "stdout",
     "output_type": "stream",
     "text": [
      "Model and tokenizer loaded successfully!\n"
     ]
    }
   ],
   "source": [
    "# Path to the saved directory\n",
    "model_save_path = \"./finbert_individual2_sentiment_model\"\n",
    "\n",
    "# Load the model and tokenizer\n",
    "model = AutoModelForSequenceClassification.from_pretrained(model_save_path)\n",
    "tokenizer = AutoTokenizer.from_pretrained(model_save_path)"
   ]
  },
  {
   "cell_type": "code",
   "execution_count": 67,
   "metadata": {},
   "outputs": [],
   "source": [
    "# To find spesific title mentioned inside the text\n",
    "def find_mentioned_titles(content):\n",
    "    mentioned = [title for title in title_ticker_dict if re.search(rf'\\b{re.escape(title)}\\b', content, re.IGNORECASE)]\n",
    "    return mentioned"
   ]
  },
  {
   "cell_type": "code",
   "execution_count": 68,
   "metadata": {},
   "outputs": [],
   "source": [
    "# Split content into sentences\n",
    "def split_into_sentences(content):\n",
    "    return sent_tokenize(content)"
   ]
  },
  {
   "cell_type": "code",
   "execution_count": 69,
   "metadata": {},
   "outputs": [],
   "source": [
    "def sentiment_analysis_with_ner(sentences, title, model, tokenizer):\n",
    "    \"\"\"\n",
    "    Perform sentiment analysis on sentences containing the specified title using the fine-tuned model.\n",
    "    \"\"\"\n",
    "    # Filter sentences mentioning the title\n",
    "    title_sentences = [sentence for sentence in sentences if re.search(rf'\\b{title}\\b', sentence, re.IGNORECASE)]\n",
    "    \n",
    "    if not title_sentences:\n",
    "        return []\n",
    "\n",
    "    # Predict sentiment for each sentence\n",
    "    results = []\n",
    "    for sentence in title_sentences:\n",
    "        inputs = tokenizer(\n",
    "            sentence,\n",
    "            max_length=128,\n",
    "            padding='max_length',\n",
    "            truncation=True,\n",
    "            return_tensors=\"pt\"\n",
    "        )\n",
    "        with torch.no_grad():\n",
    "            outputs = model(**inputs)\n",
    "            probs = torch.nn.functional.softmax(outputs.logits, dim=-1)\n",
    "            prediction = torch.argmax(probs, dim=1).item()\n",
    "\n",
    "        # Map prediction to sentiment label\n",
    "        sentiment = {v: k for k, v in label_mapping.items()}[prediction]\n",
    "        results.append(sentiment)\n",
    "\n",
    "    return results"
   ]
  },
  {
   "cell_type": "code",
   "execution_count": 70,
   "metadata": {},
   "outputs": [],
   "source": [
    "def combine_sentiments(sentiments):\n",
    "    \"\"\"\n",
    "    Combine multiple sentiment predictions into a single overall sentiment.\n",
    "    Uses majority voting.\n",
    "    \"\"\"\n",
    "    if not sentiments:\n",
    "        return \"neutral\"  # Default sentiment if no sentences available\n",
    "    sentiment_counts = Counter(sentiments)\n",
    "    overall_sentiment = sentiment_counts.most_common(1)[0][0]  # Get the most frequent sentiment\n",
    "    return overall_sentiment"
   ]
  },
  {
   "cell_type": "code",
   "execution_count": null,
   "metadata": {},
   "outputs": [],
   "source": [
    "def ticker_sentiment_analysis(content, model, tokenizer):\n",
    "    \"\"\"\n",
    "    Analyze sentiment for tickers mentioned in the content using the fine-tuned model.\n",
    "    \"\"\"\n",
    "    # Step 1: Find mentioned tickers\n",
    "    mentioned_titles = find_mentioned_titles(content)\n",
    "\n",
    "    # Step 2: Split content into sentences\n",
    "    sentences = split_into_sentences(content)\n",
    "\n",
    "    # Step 3 & 4: Get sentiment analysis for each ticker\n",
    "    ticker_list = []\n",
    "    for title in mentioned_titles:\n",
    "        ticker_sentiments = {}\n",
    "        ticker_sentiments['ticker'] = title_ticker_dict[title]\n",
    "        \n",
    "        # Use the fine-tuned model for sentiment analysis\n",
    "        sentiments = sentiment_analysis_with_ner(sentences, title, model, tokenizer)\n",
    "        \n",
    "        # Combine sentiments for overall sentiment\n",
    "        overall_sentiment = combine_sentiments(sentiments)\n",
    "        ticker_sentiments['sentiment'] = overall_sentiment\n",
    "        ticker_list.append(ticker_sentiments)\n",
    "    \n",
    "    return ticker_list"
   ]
  },
  {
   "cell_type": "code",
   "execution_count": 75,
   "metadata": {},
   "outputs": [
    {
     "name": "stdout",
     "output_type": "stream",
     "text": [
      "[{'ticker': 'NVDA', 'sentiment': 'positive'}, {'ticker': 'TSLA', 'sentiment': 'positive'}, {'ticker': 'A', 'sentiment': 'positive'}]\n"
     ]
    }
   ],
   "source": [
    "# Example\n",
    "content = (\"Agilent Technologies is doing well with strong momentum. \"\n",
    "           \"NVIDIA has shown great revenue growth. \"\n",
    "           \"Tesla is expanding in digital payments. Tesla faces challenges in production.\")\n",
    "\n",
    "results = ticker_sentiment_analysis(content, model, tokenizer)\n",
    "print(results)"
   ]
  },
  {
   "cell_type": "code",
   "execution_count": null,
   "metadata": {},
   "outputs": [],
   "source": [
    "# Web Scrapping\n",
    "def get_article_text(url, retries=3):\n",
    "    attempt = 0\n",
    "    while attempt < retries:\n",
    "        try:\n",
    "            article = Article(url)\n",
    "            article.download()\n",
    "            article.parse()\n",
    "            return article.text\n",
    "        except Exception as e:\n",
    "            wait_time = (2 ** attempt) + random.uniform(0, 1)\n",
    "            print(f\"Attempt {attempt + 1} failed for {url}. Retrying in {wait_time:.2f} seconds.\")\n",
    "            time.sleep(wait_time)\n",
    "            attempt += 1\n",
    "    print(f\"Failed to fetch article after {retries} attempts for {url}\")\n",
    "    return None"
   ]
  },
  {
   "cell_type": "code",
   "execution_count": null,
   "metadata": {},
   "outputs": [],
   "source": [
    "def preprocess_text(text):\n",
    "    # Lowercase the text\n",
    "    text = text.lower()\n",
    "    # Remove newline characters\n",
    "    text = text.replace('\\n', ' ')\n",
    "    # Remove extra spaces\n",
    "    text = ' '.join(text.split())\n",
    "    # Return cleaned text\n",
    "    return text"
   ]
  },
  {
   "cell_type": "code",
   "execution_count": null,
   "metadata": {},
   "outputs": [],
   "source": [
    "def url_to_sentiment_analysis(url, model, tokenizer, title_ticker_dict):\n",
    "    \"\"\"\n",
    "    Convert a URL to ticker-level sentiment analysis.\n",
    "    1. Fetch and preprocess the article content from the URL.\n",
    "    2. Perform sentiment analysis for tickers mentioned in the article.\n",
    "    \"\"\"\n",
    "    # Step 1: Fetch article content\n",
    "    raw_text = get_article_text(url)\n",
    "    if not raw_text:\n",
    "        print(\"Failed to fetch article content.\")\n",
    "        return []\n",
    "\n",
    "    # Step 2: Preprocess text\n",
    "    cleaned_text = preprocess_text(raw_text)\n",
    "\n",
    "    # Step 3: Perform sentiment analysis\n",
    "    sentiments = ticker_sentiment_analysis(cleaned_text, model, tokenizer)\n",
    "    \n",
    "    return sentiments\n"
   ]
  },
  {
   "cell_type": "markdown",
   "metadata": {},
   "source": [
    "### Resources:"
   ]
  },
  {
   "cell_type": "markdown",
   "metadata": {},
   "source": [
    "https://www.kaggle.com/datasets/rdolphin/financial-news-with-ticker-level-sentiment\n",
    "https://www.sec.gov/file/company-tickers"
   ]
  }
 ],
 "metadata": {
  "kernelspec": {
   "display_name": "Python 3",
   "language": "python",
   "name": "python3"
  },
  "language_info": {
   "codemirror_mode": {
    "name": "ipython",
    "version": 3
   },
   "file_extension": ".py",
   "mimetype": "text/x-python",
   "name": "python",
   "nbconvert_exporter": "python",
   "pygments_lexer": "ipython3",
   "version": "3.8.8"
  }
 },
 "nbformat": 4,
 "nbformat_minor": 2
}
